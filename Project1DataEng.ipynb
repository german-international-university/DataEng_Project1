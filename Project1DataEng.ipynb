{
  "nbformat": 4,
  "nbformat_minor": 0,
  "metadata": {
    "colab": {
      "provenance": []
    },
    "kernelspec": {
      "name": "python3",
      "display_name": "Python 3"
    },
    "language_info": {
      "name": "python"
    }
  },
  "cells": [
    {
      "cell_type": "markdown",
      "source": [
        "#Import\n"
      ],
      "metadata": {
        "id": "jQ7rJGzs-O2d"
      }
    },
    {
      "cell_type": "code",
      "execution_count": 84,
      "metadata": {
        "id": "9yRAgjsD-G33"
      },
      "outputs": [],
      "source": [
        "import numpy as np\n",
        "import pandas as pd\n",
        "import seaborn as sns\n",
        "import plotly.express as px\n",
        "import matplotlib.pyplot as plt\n",
        "from sklearn.datasets import load_boston"
      ]
    },
    {
      "cell_type": "markdown",
      "source": [
        "#Reading dataset"
      ],
      "metadata": {
        "id": "hBauZXEb-WJi"
      }
    },
    {
      "cell_type": "code",
      "source": [
        "df=pd.read_csv('/content/Car_sale_ads.csv')\n",
        "df.head(5)"
      ],
      "metadata": {
        "colab": {
          "base_uri": "https://localhost:8080/",
          "height": 664
        },
        "id": "9E-l9Otv-S8j",
        "outputId": "dc73fe21-7cfc-48d2-c3d7-96c18cd20fbf"
      },
      "execution_count": 85,
      "outputs": [
        {
          "output_type": "execute_result",
          "data": {
            "text/plain": [
              "   Index  Price Currency Condition Vehicle_brand Vehicle_model  \\\n",
              "0      0  86200      PLN       New        Abarth           595   \n",
              "1      1  43500      PLN      Used        Abarth         Other   \n",
              "2      2  44900      PLN      Used        Abarth           500   \n",
              "3      3  39900      PLN      Used        Abarth           500   \n",
              "4      4  97900      PLN       New        Abarth           595   \n",
              "\n",
              "  Vehicle_version Vehicle_generation  Production_year  Mileage_km  ...  \\\n",
              "0             NaN                NaN             2021         1.0  ...   \n",
              "1             NaN                NaN             1974     59000.0  ...   \n",
              "2             NaN                NaN             2018     52000.0  ...   \n",
              "3             NaN                NaN             2012     29000.0  ...   \n",
              "4             NaN                NaN             2021       600.0  ...   \n",
              "\n",
              "   Transmission        Type Doors_number  Colour Origin_country First_owner  \\\n",
              "0        Manual  small_cars          3.0    gray            NaN         NaN   \n",
              "1        Manual       coupe          2.0  silver            NaN         NaN   \n",
              "2     Automatic  small_cars          3.0  silver            NaN         NaN   \n",
              "3        Manual  small_cars          3.0    gray            NaN         NaN   \n",
              "4        Manual  small_cars          3.0    blue            NaN         NaN   \n",
              "\n",
              "  First_registration_date  Offer_publication_date  \\\n",
              "0                     NaN              04/05/2021   \n",
              "1                     NaN              03/05/2021   \n",
              "2                     NaN              03/05/2021   \n",
              "3                     NaN              30/04/2021   \n",
              "4                     NaN              30/04/2021   \n",
              "\n",
              "                                      Offer_location  \\\n",
              "0  ul. Jubilerska 6 - 04-190 Warszawa, Mazowiecki...   \n",
              "1  kanonierska12 - 04-425 Warszawa, Rembertów (Po...   \n",
              "2                   Warszawa, Mazowieckie, Białołęka   \n",
              "3                                  Jaworzno, Śląskie   \n",
              "4  ul. Gorzysława 9 - 61-057 Poznań, Nowe Miasto ...   \n",
              "\n",
              "                                            Features  \n",
              "0                                                 []  \n",
              "1                                                 []  \n",
              "2  ['ABS', 'Electric front windows', 'Drivers air...  \n",
              "3  ['ABS', 'Electric front windows', 'Drivers air...  \n",
              "4  ['ABS', 'Electrically adjustable mirrors', 'Pa...  \n",
              "\n",
              "[5 rows x 25 columns]"
            ],
            "text/html": [
              "\n",
              "  <div id=\"df-a3e49b8e-aaf8-44c3-9520-da40497ff29e\">\n",
              "    <div class=\"colab-df-container\">\n",
              "      <div>\n",
              "<style scoped>\n",
              "    .dataframe tbody tr th:only-of-type {\n",
              "        vertical-align: middle;\n",
              "    }\n",
              "\n",
              "    .dataframe tbody tr th {\n",
              "        vertical-align: top;\n",
              "    }\n",
              "\n",
              "    .dataframe thead th {\n",
              "        text-align: right;\n",
              "    }\n",
              "</style>\n",
              "<table border=\"1\" class=\"dataframe\">\n",
              "  <thead>\n",
              "    <tr style=\"text-align: right;\">\n",
              "      <th></th>\n",
              "      <th>Index</th>\n",
              "      <th>Price</th>\n",
              "      <th>Currency</th>\n",
              "      <th>Condition</th>\n",
              "      <th>Vehicle_brand</th>\n",
              "      <th>Vehicle_model</th>\n",
              "      <th>Vehicle_version</th>\n",
              "      <th>Vehicle_generation</th>\n",
              "      <th>Production_year</th>\n",
              "      <th>Mileage_km</th>\n",
              "      <th>...</th>\n",
              "      <th>Transmission</th>\n",
              "      <th>Type</th>\n",
              "      <th>Doors_number</th>\n",
              "      <th>Colour</th>\n",
              "      <th>Origin_country</th>\n",
              "      <th>First_owner</th>\n",
              "      <th>First_registration_date</th>\n",
              "      <th>Offer_publication_date</th>\n",
              "      <th>Offer_location</th>\n",
              "      <th>Features</th>\n",
              "    </tr>\n",
              "  </thead>\n",
              "  <tbody>\n",
              "    <tr>\n",
              "      <th>0</th>\n",
              "      <td>0</td>\n",
              "      <td>86200</td>\n",
              "      <td>PLN</td>\n",
              "      <td>New</td>\n",
              "      <td>Abarth</td>\n",
              "      <td>595</td>\n",
              "      <td>NaN</td>\n",
              "      <td>NaN</td>\n",
              "      <td>2021</td>\n",
              "      <td>1.0</td>\n",
              "      <td>...</td>\n",
              "      <td>Manual</td>\n",
              "      <td>small_cars</td>\n",
              "      <td>3.0</td>\n",
              "      <td>gray</td>\n",
              "      <td>NaN</td>\n",
              "      <td>NaN</td>\n",
              "      <td>NaN</td>\n",
              "      <td>04/05/2021</td>\n",
              "      <td>ul. Jubilerska 6 - 04-190 Warszawa, Mazowiecki...</td>\n",
              "      <td>[]</td>\n",
              "    </tr>\n",
              "    <tr>\n",
              "      <th>1</th>\n",
              "      <td>1</td>\n",
              "      <td>43500</td>\n",
              "      <td>PLN</td>\n",
              "      <td>Used</td>\n",
              "      <td>Abarth</td>\n",
              "      <td>Other</td>\n",
              "      <td>NaN</td>\n",
              "      <td>NaN</td>\n",
              "      <td>1974</td>\n",
              "      <td>59000.0</td>\n",
              "      <td>...</td>\n",
              "      <td>Manual</td>\n",
              "      <td>coupe</td>\n",
              "      <td>2.0</td>\n",
              "      <td>silver</td>\n",
              "      <td>NaN</td>\n",
              "      <td>NaN</td>\n",
              "      <td>NaN</td>\n",
              "      <td>03/05/2021</td>\n",
              "      <td>kanonierska12 - 04-425 Warszawa, Rembertów (Po...</td>\n",
              "      <td>[]</td>\n",
              "    </tr>\n",
              "    <tr>\n",
              "      <th>2</th>\n",
              "      <td>2</td>\n",
              "      <td>44900</td>\n",
              "      <td>PLN</td>\n",
              "      <td>Used</td>\n",
              "      <td>Abarth</td>\n",
              "      <td>500</td>\n",
              "      <td>NaN</td>\n",
              "      <td>NaN</td>\n",
              "      <td>2018</td>\n",
              "      <td>52000.0</td>\n",
              "      <td>...</td>\n",
              "      <td>Automatic</td>\n",
              "      <td>small_cars</td>\n",
              "      <td>3.0</td>\n",
              "      <td>silver</td>\n",
              "      <td>NaN</td>\n",
              "      <td>NaN</td>\n",
              "      <td>NaN</td>\n",
              "      <td>03/05/2021</td>\n",
              "      <td>Warszawa, Mazowieckie, Białołęka</td>\n",
              "      <td>['ABS', 'Electric front windows', 'Drivers air...</td>\n",
              "    </tr>\n",
              "    <tr>\n",
              "      <th>3</th>\n",
              "      <td>3</td>\n",
              "      <td>39900</td>\n",
              "      <td>PLN</td>\n",
              "      <td>Used</td>\n",
              "      <td>Abarth</td>\n",
              "      <td>500</td>\n",
              "      <td>NaN</td>\n",
              "      <td>NaN</td>\n",
              "      <td>2012</td>\n",
              "      <td>29000.0</td>\n",
              "      <td>...</td>\n",
              "      <td>Manual</td>\n",
              "      <td>small_cars</td>\n",
              "      <td>3.0</td>\n",
              "      <td>gray</td>\n",
              "      <td>NaN</td>\n",
              "      <td>NaN</td>\n",
              "      <td>NaN</td>\n",
              "      <td>30/04/2021</td>\n",
              "      <td>Jaworzno, Śląskie</td>\n",
              "      <td>['ABS', 'Electric front windows', 'Drivers air...</td>\n",
              "    </tr>\n",
              "    <tr>\n",
              "      <th>4</th>\n",
              "      <td>4</td>\n",
              "      <td>97900</td>\n",
              "      <td>PLN</td>\n",
              "      <td>New</td>\n",
              "      <td>Abarth</td>\n",
              "      <td>595</td>\n",
              "      <td>NaN</td>\n",
              "      <td>NaN</td>\n",
              "      <td>2021</td>\n",
              "      <td>600.0</td>\n",
              "      <td>...</td>\n",
              "      <td>Manual</td>\n",
              "      <td>small_cars</td>\n",
              "      <td>3.0</td>\n",
              "      <td>blue</td>\n",
              "      <td>NaN</td>\n",
              "      <td>NaN</td>\n",
              "      <td>NaN</td>\n",
              "      <td>30/04/2021</td>\n",
              "      <td>ul. Gorzysława 9 - 61-057 Poznań, Nowe Miasto ...</td>\n",
              "      <td>['ABS', 'Electrically adjustable mirrors', 'Pa...</td>\n",
              "    </tr>\n",
              "  </tbody>\n",
              "</table>\n",
              "<p>5 rows × 25 columns</p>\n",
              "</div>\n",
              "      <button class=\"colab-df-convert\" onclick=\"convertToInteractive('df-a3e49b8e-aaf8-44c3-9520-da40497ff29e')\"\n",
              "              title=\"Convert this dataframe to an interactive table.\"\n",
              "              style=\"display:none;\">\n",
              "        \n",
              "  <svg xmlns=\"http://www.w3.org/2000/svg\" height=\"24px\"viewBox=\"0 0 24 24\"\n",
              "       width=\"24px\">\n",
              "    <path d=\"M0 0h24v24H0V0z\" fill=\"none\"/>\n",
              "    <path d=\"M18.56 5.44l.94 2.06.94-2.06 2.06-.94-2.06-.94-.94-2.06-.94 2.06-2.06.94zm-11 1L8.5 8.5l.94-2.06 2.06-.94-2.06-.94L8.5 2.5l-.94 2.06-2.06.94zm10 10l.94 2.06.94-2.06 2.06-.94-2.06-.94-.94-2.06-.94 2.06-2.06.94z\"/><path d=\"M17.41 7.96l-1.37-1.37c-.4-.4-.92-.59-1.43-.59-.52 0-1.04.2-1.43.59L10.3 9.45l-7.72 7.72c-.78.78-.78 2.05 0 2.83L4 21.41c.39.39.9.59 1.41.59.51 0 1.02-.2 1.41-.59l7.78-7.78 2.81-2.81c.8-.78.8-2.07 0-2.86zM5.41 20L4 18.59l7.72-7.72 1.47 1.35L5.41 20z\"/>\n",
              "  </svg>\n",
              "      </button>\n",
              "      \n",
              "  <style>\n",
              "    .colab-df-container {\n",
              "      display:flex;\n",
              "      flex-wrap:wrap;\n",
              "      gap: 12px;\n",
              "    }\n",
              "\n",
              "    .colab-df-convert {\n",
              "      background-color: #E8F0FE;\n",
              "      border: none;\n",
              "      border-radius: 50%;\n",
              "      cursor: pointer;\n",
              "      display: none;\n",
              "      fill: #1967D2;\n",
              "      height: 32px;\n",
              "      padding: 0 0 0 0;\n",
              "      width: 32px;\n",
              "    }\n",
              "\n",
              "    .colab-df-convert:hover {\n",
              "      background-color: #E2EBFA;\n",
              "      box-shadow: 0px 1px 2px rgba(60, 64, 67, 0.3), 0px 1px 3px 1px rgba(60, 64, 67, 0.15);\n",
              "      fill: #174EA6;\n",
              "    }\n",
              "\n",
              "    [theme=dark] .colab-df-convert {\n",
              "      background-color: #3B4455;\n",
              "      fill: #D2E3FC;\n",
              "    }\n",
              "\n",
              "    [theme=dark] .colab-df-convert:hover {\n",
              "      background-color: #434B5C;\n",
              "      box-shadow: 0px 1px 3px 1px rgba(0, 0, 0, 0.15);\n",
              "      filter: drop-shadow(0px 1px 2px rgba(0, 0, 0, 0.3));\n",
              "      fill: #FFFFFF;\n",
              "    }\n",
              "  </style>\n",
              "\n",
              "      <script>\n",
              "        const buttonEl =\n",
              "          document.querySelector('#df-a3e49b8e-aaf8-44c3-9520-da40497ff29e button.colab-df-convert');\n",
              "        buttonEl.style.display =\n",
              "          google.colab.kernel.accessAllowed ? 'block' : 'none';\n",
              "\n",
              "        async function convertToInteractive(key) {\n",
              "          const element = document.querySelector('#df-a3e49b8e-aaf8-44c3-9520-da40497ff29e');\n",
              "          const dataTable =\n",
              "            await google.colab.kernel.invokeFunction('convertToInteractive',\n",
              "                                                     [key], {});\n",
              "          if (!dataTable) return;\n",
              "\n",
              "          const docLinkHtml = 'Like what you see? Visit the ' +\n",
              "            '<a target=\"_blank\" href=https://colab.research.google.com/notebooks/data_table.ipynb>data table notebook</a>'\n",
              "            + ' to learn more about interactive tables.';\n",
              "          element.innerHTML = '';\n",
              "          dataTable['output_type'] = 'display_data';\n",
              "          await google.colab.output.renderOutput(dataTable, element);\n",
              "          const docLink = document.createElement('div');\n",
              "          docLink.innerHTML = docLinkHtml;\n",
              "          element.appendChild(docLink);\n",
              "        }\n",
              "      </script>\n",
              "    </div>\n",
              "  </div>\n",
              "  "
            ]
          },
          "metadata": {},
          "execution_count": 85
        }
      ]
    },
    {
      "cell_type": "code",
      "source": [
        "#replaces the NULL values with a specified value\n",
        "df.fillna(method='bfill')"
      ],
      "metadata": {
        "colab": {
          "base_uri": "https://localhost:8080/",
          "height": 1000
        },
        "id": "EjCRH8sk-S-7",
        "outputId": "6e23b3b8-2dfd-48ca-d771-630272f66c14"
      },
      "execution_count": 86,
      "outputs": [
        {
          "output_type": "execute_result",
          "data": {
            "text/plain": [
              "         Index  Price Currency Condition Vehicle_brand Vehicle_model  \\\n",
              "0            0  86200      PLN       New        Abarth           595   \n",
              "1            1  43500      PLN      Used        Abarth         Other   \n",
              "2            2  44900      PLN      Used        Abarth           500   \n",
              "3            3  39900      PLN      Used        Abarth           500   \n",
              "4            4  97900      PLN       New        Abarth           595   \n",
              "...        ...    ...      ...       ...           ...           ...   \n",
              "208299  208299  39900      PLN      Used           Żuk         Other   \n",
              "208300  208300  10900      PLN      Used           Żuk         Other   \n",
              "208301  208301   6900      PLN      Used           Żuk         Other   \n",
              "208302  208302   5700      PLN      Used           Żuk         Other   \n",
              "208303  208303  11900      PLN      Used           Żuk         Other   \n",
              "\n",
              "       Vehicle_version Vehicle_generation  Production_year  Mileage_km  ...  \\\n",
              "0         1.4 MultiAir     C4 (1991-1994)             2021         1.0  ...   \n",
              "1         1.4 MultiAir     C4 (1991-1994)             1974     59000.0  ...   \n",
              "2         1.4 MultiAir     C4 (1991-1994)             2018     52000.0  ...   \n",
              "3         1.4 MultiAir     C4 (1991-1994)             2012     29000.0  ...   \n",
              "4         1.4 MultiAir     C4 (1991-1994)             2021       600.0  ...   \n",
              "...                ...                ...              ...         ...  ...   \n",
              "208299             NaN                NaN             2014     40000.0  ...   \n",
              "208300             NaN                NaN             1970     63518.0  ...   \n",
              "208301             NaN                NaN             1977     11880.0  ...   \n",
              "208302             NaN                NaN             1986    100000.0  ...   \n",
              "208303             NaN                NaN             1985     20056.0  ...   \n",
              "\n",
              "        Transmission           Type Doors_number  Colour Origin_country  \\\n",
              "0             Manual     small_cars          3.0    gray        Germany   \n",
              "1             Manual          coupe          2.0  silver        Germany   \n",
              "2          Automatic     small_cars          3.0  silver        Germany   \n",
              "3             Manual     small_cars          3.0    gray        Germany   \n",
              "4             Manual     small_cars          3.0    blue        Germany   \n",
              "...              ...            ...          ...     ...            ...   \n",
              "208299        Manual     small_cars          1.0   other         Poland   \n",
              "208300        Manual  station_wagon          4.0   other         Poland   \n",
              "208301        Manual            SUV          3.0     red            NaN   \n",
              "208302        Manual        minivan          2.0    blue            NaN   \n",
              "208303        Manual        minivan          3.0     red            NaN   \n",
              "\n",
              "       First_owner First_registration_date  Offer_publication_date  \\\n",
              "0              Yes              15/03/2016              04/05/2021   \n",
              "1              Yes              15/03/2016              03/05/2021   \n",
              "2              Yes              15/03/2016              03/05/2021   \n",
              "3              Yes              15/03/2016              30/04/2021   \n",
              "4              Yes              15/03/2016              30/04/2021   \n",
              "...            ...                     ...                     ...   \n",
              "208299         NaN              11/06/1977              30/04/2021   \n",
              "208300         NaN              11/06/1977              02/05/2021   \n",
              "208301         NaN              11/06/1977              28/04/2021   \n",
              "208302         NaN                     NaN              24/04/2021   \n",
              "208303         NaN                     NaN              04/05/2021   \n",
              "\n",
              "                                           Offer_location  \\\n",
              "0       ul. Jubilerska 6 - 04-190 Warszawa, Mazowiecki...   \n",
              "1       kanonierska12 - 04-425 Warszawa, Rembertów (Po...   \n",
              "2                        Warszawa, Mazowieckie, Białołęka   \n",
              "3                                       Jaworzno, Śląskie   \n",
              "4       ul. Gorzysława 9 - 61-057 Poznań, Nowe Miasto ...   \n",
              "...                                                   ...   \n",
              "208299  ul. Huzarska 12 - 47-400 Racibórz, raciborski,...   \n",
              "208300                      Włocławek, Kujawsko-pomorskie   \n",
              "208301                   Złotów, złotowski, Wielkopolskie   \n",
              "208302                  Kraczkowa, łańcucki, Podkarpackie   \n",
              "208303  Szczecińska 40 - 75-137 Koszalin, Zachodniopom...   \n",
              "\n",
              "                                                 Features  \n",
              "0                                                      []  \n",
              "1                                                      []  \n",
              "2       ['ABS', 'Electric front windows', 'Drivers air...  \n",
              "3       ['ABS', 'Electric front windows', 'Drivers air...  \n",
              "4       ['ABS', 'Electrically adjustable mirrors', 'Pa...  \n",
              "...                                                   ...  \n",
              "208299                                                 []  \n",
              "208300                                                 []  \n",
              "208301                                                 []  \n",
              "208302                                                 []  \n",
              "208303                                                 []  \n",
              "\n",
              "[208304 rows x 25 columns]"
            ],
            "text/html": [
              "\n",
              "  <div id=\"df-6d721b39-fe80-4640-a32f-ac68ed7e4f7c\">\n",
              "    <div class=\"colab-df-container\">\n",
              "      <div>\n",
              "<style scoped>\n",
              "    .dataframe tbody tr th:only-of-type {\n",
              "        vertical-align: middle;\n",
              "    }\n",
              "\n",
              "    .dataframe tbody tr th {\n",
              "        vertical-align: top;\n",
              "    }\n",
              "\n",
              "    .dataframe thead th {\n",
              "        text-align: right;\n",
              "    }\n",
              "</style>\n",
              "<table border=\"1\" class=\"dataframe\">\n",
              "  <thead>\n",
              "    <tr style=\"text-align: right;\">\n",
              "      <th></th>\n",
              "      <th>Index</th>\n",
              "      <th>Price</th>\n",
              "      <th>Currency</th>\n",
              "      <th>Condition</th>\n",
              "      <th>Vehicle_brand</th>\n",
              "      <th>Vehicle_model</th>\n",
              "      <th>Vehicle_version</th>\n",
              "      <th>Vehicle_generation</th>\n",
              "      <th>Production_year</th>\n",
              "      <th>Mileage_km</th>\n",
              "      <th>...</th>\n",
              "      <th>Transmission</th>\n",
              "      <th>Type</th>\n",
              "      <th>Doors_number</th>\n",
              "      <th>Colour</th>\n",
              "      <th>Origin_country</th>\n",
              "      <th>First_owner</th>\n",
              "      <th>First_registration_date</th>\n",
              "      <th>Offer_publication_date</th>\n",
              "      <th>Offer_location</th>\n",
              "      <th>Features</th>\n",
              "    </tr>\n",
              "  </thead>\n",
              "  <tbody>\n",
              "    <tr>\n",
              "      <th>0</th>\n",
              "      <td>0</td>\n",
              "      <td>86200</td>\n",
              "      <td>PLN</td>\n",
              "      <td>New</td>\n",
              "      <td>Abarth</td>\n",
              "      <td>595</td>\n",
              "      <td>1.4 MultiAir</td>\n",
              "      <td>C4 (1991-1994)</td>\n",
              "      <td>2021</td>\n",
              "      <td>1.0</td>\n",
              "      <td>...</td>\n",
              "      <td>Manual</td>\n",
              "      <td>small_cars</td>\n",
              "      <td>3.0</td>\n",
              "      <td>gray</td>\n",
              "      <td>Germany</td>\n",
              "      <td>Yes</td>\n",
              "      <td>15/03/2016</td>\n",
              "      <td>04/05/2021</td>\n",
              "      <td>ul. Jubilerska 6 - 04-190 Warszawa, Mazowiecki...</td>\n",
              "      <td>[]</td>\n",
              "    </tr>\n",
              "    <tr>\n",
              "      <th>1</th>\n",
              "      <td>1</td>\n",
              "      <td>43500</td>\n",
              "      <td>PLN</td>\n",
              "      <td>Used</td>\n",
              "      <td>Abarth</td>\n",
              "      <td>Other</td>\n",
              "      <td>1.4 MultiAir</td>\n",
              "      <td>C4 (1991-1994)</td>\n",
              "      <td>1974</td>\n",
              "      <td>59000.0</td>\n",
              "      <td>...</td>\n",
              "      <td>Manual</td>\n",
              "      <td>coupe</td>\n",
              "      <td>2.0</td>\n",
              "      <td>silver</td>\n",
              "      <td>Germany</td>\n",
              "      <td>Yes</td>\n",
              "      <td>15/03/2016</td>\n",
              "      <td>03/05/2021</td>\n",
              "      <td>kanonierska12 - 04-425 Warszawa, Rembertów (Po...</td>\n",
              "      <td>[]</td>\n",
              "    </tr>\n",
              "    <tr>\n",
              "      <th>2</th>\n",
              "      <td>2</td>\n",
              "      <td>44900</td>\n",
              "      <td>PLN</td>\n",
              "      <td>Used</td>\n",
              "      <td>Abarth</td>\n",
              "      <td>500</td>\n",
              "      <td>1.4 MultiAir</td>\n",
              "      <td>C4 (1991-1994)</td>\n",
              "      <td>2018</td>\n",
              "      <td>52000.0</td>\n",
              "      <td>...</td>\n",
              "      <td>Automatic</td>\n",
              "      <td>small_cars</td>\n",
              "      <td>3.0</td>\n",
              "      <td>silver</td>\n",
              "      <td>Germany</td>\n",
              "      <td>Yes</td>\n",
              "      <td>15/03/2016</td>\n",
              "      <td>03/05/2021</td>\n",
              "      <td>Warszawa, Mazowieckie, Białołęka</td>\n",
              "      <td>['ABS', 'Electric front windows', 'Drivers air...</td>\n",
              "    </tr>\n",
              "    <tr>\n",
              "      <th>3</th>\n",
              "      <td>3</td>\n",
              "      <td>39900</td>\n",
              "      <td>PLN</td>\n",
              "      <td>Used</td>\n",
              "      <td>Abarth</td>\n",
              "      <td>500</td>\n",
              "      <td>1.4 MultiAir</td>\n",
              "      <td>C4 (1991-1994)</td>\n",
              "      <td>2012</td>\n",
              "      <td>29000.0</td>\n",
              "      <td>...</td>\n",
              "      <td>Manual</td>\n",
              "      <td>small_cars</td>\n",
              "      <td>3.0</td>\n",
              "      <td>gray</td>\n",
              "      <td>Germany</td>\n",
              "      <td>Yes</td>\n",
              "      <td>15/03/2016</td>\n",
              "      <td>30/04/2021</td>\n",
              "      <td>Jaworzno, Śląskie</td>\n",
              "      <td>['ABS', 'Electric front windows', 'Drivers air...</td>\n",
              "    </tr>\n",
              "    <tr>\n",
              "      <th>4</th>\n",
              "      <td>4</td>\n",
              "      <td>97900</td>\n",
              "      <td>PLN</td>\n",
              "      <td>New</td>\n",
              "      <td>Abarth</td>\n",
              "      <td>595</td>\n",
              "      <td>1.4 MultiAir</td>\n",
              "      <td>C4 (1991-1994)</td>\n",
              "      <td>2021</td>\n",
              "      <td>600.0</td>\n",
              "      <td>...</td>\n",
              "      <td>Manual</td>\n",
              "      <td>small_cars</td>\n",
              "      <td>3.0</td>\n",
              "      <td>blue</td>\n",
              "      <td>Germany</td>\n",
              "      <td>Yes</td>\n",
              "      <td>15/03/2016</td>\n",
              "      <td>30/04/2021</td>\n",
              "      <td>ul. Gorzysława 9 - 61-057 Poznań, Nowe Miasto ...</td>\n",
              "      <td>['ABS', 'Electrically adjustable mirrors', 'Pa...</td>\n",
              "    </tr>\n",
              "    <tr>\n",
              "      <th>...</th>\n",
              "      <td>...</td>\n",
              "      <td>...</td>\n",
              "      <td>...</td>\n",
              "      <td>...</td>\n",
              "      <td>...</td>\n",
              "      <td>...</td>\n",
              "      <td>...</td>\n",
              "      <td>...</td>\n",
              "      <td>...</td>\n",
              "      <td>...</td>\n",
              "      <td>...</td>\n",
              "      <td>...</td>\n",
              "      <td>...</td>\n",
              "      <td>...</td>\n",
              "      <td>...</td>\n",
              "      <td>...</td>\n",
              "      <td>...</td>\n",
              "      <td>...</td>\n",
              "      <td>...</td>\n",
              "      <td>...</td>\n",
              "      <td>...</td>\n",
              "    </tr>\n",
              "    <tr>\n",
              "      <th>208299</th>\n",
              "      <td>208299</td>\n",
              "      <td>39900</td>\n",
              "      <td>PLN</td>\n",
              "      <td>Used</td>\n",
              "      <td>Żuk</td>\n",
              "      <td>Other</td>\n",
              "      <td>NaN</td>\n",
              "      <td>NaN</td>\n",
              "      <td>2014</td>\n",
              "      <td>40000.0</td>\n",
              "      <td>...</td>\n",
              "      <td>Manual</td>\n",
              "      <td>small_cars</td>\n",
              "      <td>1.0</td>\n",
              "      <td>other</td>\n",
              "      <td>Poland</td>\n",
              "      <td>NaN</td>\n",
              "      <td>11/06/1977</td>\n",
              "      <td>30/04/2021</td>\n",
              "      <td>ul. Huzarska 12 - 47-400 Racibórz, raciborski,...</td>\n",
              "      <td>[]</td>\n",
              "    </tr>\n",
              "    <tr>\n",
              "      <th>208300</th>\n",
              "      <td>208300</td>\n",
              "      <td>10900</td>\n",
              "      <td>PLN</td>\n",
              "      <td>Used</td>\n",
              "      <td>Żuk</td>\n",
              "      <td>Other</td>\n",
              "      <td>NaN</td>\n",
              "      <td>NaN</td>\n",
              "      <td>1970</td>\n",
              "      <td>63518.0</td>\n",
              "      <td>...</td>\n",
              "      <td>Manual</td>\n",
              "      <td>station_wagon</td>\n",
              "      <td>4.0</td>\n",
              "      <td>other</td>\n",
              "      <td>Poland</td>\n",
              "      <td>NaN</td>\n",
              "      <td>11/06/1977</td>\n",
              "      <td>02/05/2021</td>\n",
              "      <td>Włocławek, Kujawsko-pomorskie</td>\n",
              "      <td>[]</td>\n",
              "    </tr>\n",
              "    <tr>\n",
              "      <th>208301</th>\n",
              "      <td>208301</td>\n",
              "      <td>6900</td>\n",
              "      <td>PLN</td>\n",
              "      <td>Used</td>\n",
              "      <td>Żuk</td>\n",
              "      <td>Other</td>\n",
              "      <td>NaN</td>\n",
              "      <td>NaN</td>\n",
              "      <td>1977</td>\n",
              "      <td>11880.0</td>\n",
              "      <td>...</td>\n",
              "      <td>Manual</td>\n",
              "      <td>SUV</td>\n",
              "      <td>3.0</td>\n",
              "      <td>red</td>\n",
              "      <td>NaN</td>\n",
              "      <td>NaN</td>\n",
              "      <td>11/06/1977</td>\n",
              "      <td>28/04/2021</td>\n",
              "      <td>Złotów, złotowski, Wielkopolskie</td>\n",
              "      <td>[]</td>\n",
              "    </tr>\n",
              "    <tr>\n",
              "      <th>208302</th>\n",
              "      <td>208302</td>\n",
              "      <td>5700</td>\n",
              "      <td>PLN</td>\n",
              "      <td>Used</td>\n",
              "      <td>Żuk</td>\n",
              "      <td>Other</td>\n",
              "      <td>NaN</td>\n",
              "      <td>NaN</td>\n",
              "      <td>1986</td>\n",
              "      <td>100000.0</td>\n",
              "      <td>...</td>\n",
              "      <td>Manual</td>\n",
              "      <td>minivan</td>\n",
              "      <td>2.0</td>\n",
              "      <td>blue</td>\n",
              "      <td>NaN</td>\n",
              "      <td>NaN</td>\n",
              "      <td>NaN</td>\n",
              "      <td>24/04/2021</td>\n",
              "      <td>Kraczkowa, łańcucki, Podkarpackie</td>\n",
              "      <td>[]</td>\n",
              "    </tr>\n",
              "    <tr>\n",
              "      <th>208303</th>\n",
              "      <td>208303</td>\n",
              "      <td>11900</td>\n",
              "      <td>PLN</td>\n",
              "      <td>Used</td>\n",
              "      <td>Żuk</td>\n",
              "      <td>Other</td>\n",
              "      <td>NaN</td>\n",
              "      <td>NaN</td>\n",
              "      <td>1985</td>\n",
              "      <td>20056.0</td>\n",
              "      <td>...</td>\n",
              "      <td>Manual</td>\n",
              "      <td>minivan</td>\n",
              "      <td>3.0</td>\n",
              "      <td>red</td>\n",
              "      <td>NaN</td>\n",
              "      <td>NaN</td>\n",
              "      <td>NaN</td>\n",
              "      <td>04/05/2021</td>\n",
              "      <td>Szczecińska 40 - 75-137 Koszalin, Zachodniopom...</td>\n",
              "      <td>[]</td>\n",
              "    </tr>\n",
              "  </tbody>\n",
              "</table>\n",
              "<p>208304 rows × 25 columns</p>\n",
              "</div>\n",
              "      <button class=\"colab-df-convert\" onclick=\"convertToInteractive('df-6d721b39-fe80-4640-a32f-ac68ed7e4f7c')\"\n",
              "              title=\"Convert this dataframe to an interactive table.\"\n",
              "              style=\"display:none;\">\n",
              "        \n",
              "  <svg xmlns=\"http://www.w3.org/2000/svg\" height=\"24px\"viewBox=\"0 0 24 24\"\n",
              "       width=\"24px\">\n",
              "    <path d=\"M0 0h24v24H0V0z\" fill=\"none\"/>\n",
              "    <path d=\"M18.56 5.44l.94 2.06.94-2.06 2.06-.94-2.06-.94-.94-2.06-.94 2.06-2.06.94zm-11 1L8.5 8.5l.94-2.06 2.06-.94-2.06-.94L8.5 2.5l-.94 2.06-2.06.94zm10 10l.94 2.06.94-2.06 2.06-.94-2.06-.94-.94-2.06-.94 2.06-2.06.94z\"/><path d=\"M17.41 7.96l-1.37-1.37c-.4-.4-.92-.59-1.43-.59-.52 0-1.04.2-1.43.59L10.3 9.45l-7.72 7.72c-.78.78-.78 2.05 0 2.83L4 21.41c.39.39.9.59 1.41.59.51 0 1.02-.2 1.41-.59l7.78-7.78 2.81-2.81c.8-.78.8-2.07 0-2.86zM5.41 20L4 18.59l7.72-7.72 1.47 1.35L5.41 20z\"/>\n",
              "  </svg>\n",
              "      </button>\n",
              "      \n",
              "  <style>\n",
              "    .colab-df-container {\n",
              "      display:flex;\n",
              "      flex-wrap:wrap;\n",
              "      gap: 12px;\n",
              "    }\n",
              "\n",
              "    .colab-df-convert {\n",
              "      background-color: #E8F0FE;\n",
              "      border: none;\n",
              "      border-radius: 50%;\n",
              "      cursor: pointer;\n",
              "      display: none;\n",
              "      fill: #1967D2;\n",
              "      height: 32px;\n",
              "      padding: 0 0 0 0;\n",
              "      width: 32px;\n",
              "    }\n",
              "\n",
              "    .colab-df-convert:hover {\n",
              "      background-color: #E2EBFA;\n",
              "      box-shadow: 0px 1px 2px rgba(60, 64, 67, 0.3), 0px 1px 3px 1px rgba(60, 64, 67, 0.15);\n",
              "      fill: #174EA6;\n",
              "    }\n",
              "\n",
              "    [theme=dark] .colab-df-convert {\n",
              "      background-color: #3B4455;\n",
              "      fill: #D2E3FC;\n",
              "    }\n",
              "\n",
              "    [theme=dark] .colab-df-convert:hover {\n",
              "      background-color: #434B5C;\n",
              "      box-shadow: 0px 1px 3px 1px rgba(0, 0, 0, 0.15);\n",
              "      filter: drop-shadow(0px 1px 2px rgba(0, 0, 0, 0.3));\n",
              "      fill: #FFFFFF;\n",
              "    }\n",
              "  </style>\n",
              "\n",
              "      <script>\n",
              "        const buttonEl =\n",
              "          document.querySelector('#df-6d721b39-fe80-4640-a32f-ac68ed7e4f7c button.colab-df-convert');\n",
              "        buttonEl.style.display =\n",
              "          google.colab.kernel.accessAllowed ? 'block' : 'none';\n",
              "\n",
              "        async function convertToInteractive(key) {\n",
              "          const element = document.querySelector('#df-6d721b39-fe80-4640-a32f-ac68ed7e4f7c');\n",
              "          const dataTable =\n",
              "            await google.colab.kernel.invokeFunction('convertToInteractive',\n",
              "                                                     [key], {});\n",
              "          if (!dataTable) return;\n",
              "\n",
              "          const docLinkHtml = 'Like what you see? Visit the ' +\n",
              "            '<a target=\"_blank\" href=https://colab.research.google.com/notebooks/data_table.ipynb>data table notebook</a>'\n",
              "            + ' to learn more about interactive tables.';\n",
              "          element.innerHTML = '';\n",
              "          dataTable['output_type'] = 'display_data';\n",
              "          await google.colab.output.renderOutput(dataTable, element);\n",
              "          const docLink = document.createElement('div');\n",
              "          docLink.innerHTML = docLinkHtml;\n",
              "          element.appendChild(docLink);\n",
              "        }\n",
              "      </script>\n",
              "    </div>\n",
              "  </div>\n",
              "  "
            ]
          },
          "metadata": {},
          "execution_count": 86
        }
      ]
    },
    {
      "cell_type": "code",
      "source": [
        "#number of nan values in each column\n",
        "null_values = df.isnull().sum()\n",
        "null_values"
      ],
      "metadata": {
        "colab": {
          "base_uri": "https://localhost:8080/"
        },
        "id": "aBbblq3N-TBY",
        "outputId": "74df684a-c6c1-4fe7-869f-e22e443f2459"
      },
      "execution_count": 87,
      "outputs": [
        {
          "output_type": "execute_result",
          "data": {
            "text/plain": [
              "Index                           0\n",
              "Price                           0\n",
              "Currency                        0\n",
              "Condition                       0\n",
              "Vehicle_brand                   0\n",
              "Vehicle_model                   0\n",
              "Vehicle_version             70222\n",
              "Vehicle_generation          60444\n",
              "Production_year                 0\n",
              "Mileage_km                    983\n",
              "Power_HP                      643\n",
              "Displacement_cm3             1966\n",
              "Fuel_type                       0\n",
              "CO2_emissions              114257\n",
              "Drive                       15076\n",
              "Transmission                  479\n",
              "Type                            0\n",
              "Doors_number                 1487\n",
              "Colour                          0\n",
              "Origin_country              89992\n",
              "First_owner                143210\n",
              "First_registration_date    121859\n",
              "Offer_publication_date          0\n",
              "Offer_location                  0\n",
              "Features                        0\n",
              "dtype: int64"
            ]
          },
          "metadata": {},
          "execution_count": 87
        }
      ]
    },
    {
      "cell_type": "code",
      "source": [
        "#before any change in the dataset we have 208304 rows\n",
        "df.shape"
      ],
      "metadata": {
        "colab": {
          "base_uri": "https://localhost:8080/"
        },
        "id": "Aj3L6yXI-TDu",
        "outputId": "13f4546b-4dc7-49b9-b9ca-a39ce1b22aab"
      },
      "execution_count": 88,
      "outputs": [
        {
          "output_type": "execute_result",
          "data": {
            "text/plain": [
              "(208304, 25)"
            ]
          },
          "metadata": {},
          "execution_count": 88
        }
      ]
    },
    {
      "cell_type": "code",
      "source": [
        "#to get the % of null values in the whole data\n",
        "data_count = np.product(df.shape)\n",
        "print((null_values.sum()/data_count)*100,\"%\")"
      ],
      "metadata": {
        "colab": {
          "base_uri": "https://localhost:8080/"
        },
        "id": "qmBjncWf-TGA",
        "outputId": "5267f5fa-72bb-4816-c091-bc8c6bb29968"
      },
      "execution_count": 89,
      "outputs": [
        {
          "output_type": "stream",
          "name": "stdout",
          "text": [
            "11.917543590137491 %\n"
          ]
        }
      ]
    },
    {
      "cell_type": "markdown",
      "source": [
        "Replace missing values with mean "
      ],
      "metadata": {
        "id": "23r_2K8w0NLj"
      }
    },
    {
      "cell_type": "code",
      "source": [
        "#creating loop to change nan value with mean for each column\n",
        "d = [6,7,9,10,11,13,14,15,17,19,20,21]\n",
        "\n",
        "for i in d:\n",
        "  mean = df.iloc[:,i].notnull().mean()\n",
        "  print(mean)\n",
        "  df.iloc[:,i] = df.iloc[:,i].fillna(mean)\n",
        "\n",
        "df.head()\n",
        "  "
      ],
      "metadata": {
        "colab": {
          "base_uri": "https://localhost:8080/",
          "height": 885
        },
        "id": "sCBDR_RR-TKo",
        "outputId": "932544fb-747d-4c87-d8e4-ab3abbe612ad"
      },
      "execution_count": 90,
      "outputs": [
        {
          "output_type": "stream",
          "name": "stdout",
          "text": [
            "0.6628869344803748\n",
            "0.7098279437744834\n",
            "0.9952809355557263\n",
            "0.9969131653736846\n",
            "0.9905618711114524\n",
            "0.45148916967509023\n",
            "0.9276250096013519\n",
            "0.9977004762270528\n",
            "0.9928613948843997\n",
            "0.5679775712420309\n",
            "0.31249519932406483\n",
            "0.4149944312159152\n"
          ]
        },
        {
          "output_type": "execute_result",
          "data": {
            "text/plain": [
              "   Index  Price Currency Condition Vehicle_brand Vehicle_model  \\\n",
              "0      0  86200      PLN       New        Abarth           595   \n",
              "1      1  43500      PLN      Used        Abarth         Other   \n",
              "2      2  44900      PLN      Used        Abarth           500   \n",
              "3      3  39900      PLN      Used        Abarth           500   \n",
              "4      4  97900      PLN       New        Abarth           595   \n",
              "\n",
              "  Vehicle_version Vehicle_generation  Production_year  Mileage_km  ...  \\\n",
              "0        0.662887           0.709828             2021         1.0  ...   \n",
              "1        0.662887           0.709828             1974     59000.0  ...   \n",
              "2        0.662887           0.709828             2018     52000.0  ...   \n",
              "3        0.662887           0.709828             2012     29000.0  ...   \n",
              "4        0.662887           0.709828             2021       600.0  ...   \n",
              "\n",
              "   Transmission        Type Doors_number  Colour Origin_country First_owner  \\\n",
              "0        Manual  small_cars          3.0    gray       0.567978    0.312495   \n",
              "1        Manual       coupe          2.0  silver       0.567978    0.312495   \n",
              "2     Automatic  small_cars          3.0  silver       0.567978    0.312495   \n",
              "3        Manual  small_cars          3.0    gray       0.567978    0.312495   \n",
              "4        Manual  small_cars          3.0    blue       0.567978    0.312495   \n",
              "\n",
              "  First_registration_date  Offer_publication_date  \\\n",
              "0                0.414994              04/05/2021   \n",
              "1                0.414994              03/05/2021   \n",
              "2                0.414994              03/05/2021   \n",
              "3                0.414994              30/04/2021   \n",
              "4                0.414994              30/04/2021   \n",
              "\n",
              "                                      Offer_location  \\\n",
              "0  ul. Jubilerska 6 - 04-190 Warszawa, Mazowiecki...   \n",
              "1  kanonierska12 - 04-425 Warszawa, Rembertów (Po...   \n",
              "2                   Warszawa, Mazowieckie, Białołęka   \n",
              "3                                  Jaworzno, Śląskie   \n",
              "4  ul. Gorzysława 9 - 61-057 Poznań, Nowe Miasto ...   \n",
              "\n",
              "                                            Features  \n",
              "0                                                 []  \n",
              "1                                                 []  \n",
              "2  ['ABS', 'Electric front windows', 'Drivers air...  \n",
              "3  ['ABS', 'Electric front windows', 'Drivers air...  \n",
              "4  ['ABS', 'Electrically adjustable mirrors', 'Pa...  \n",
              "\n",
              "[5 rows x 25 columns]"
            ],
            "text/html": [
              "\n",
              "  <div id=\"df-d8e0cd1a-0221-4d94-a110-6afb616d8e42\">\n",
              "    <div class=\"colab-df-container\">\n",
              "      <div>\n",
              "<style scoped>\n",
              "    .dataframe tbody tr th:only-of-type {\n",
              "        vertical-align: middle;\n",
              "    }\n",
              "\n",
              "    .dataframe tbody tr th {\n",
              "        vertical-align: top;\n",
              "    }\n",
              "\n",
              "    .dataframe thead th {\n",
              "        text-align: right;\n",
              "    }\n",
              "</style>\n",
              "<table border=\"1\" class=\"dataframe\">\n",
              "  <thead>\n",
              "    <tr style=\"text-align: right;\">\n",
              "      <th></th>\n",
              "      <th>Index</th>\n",
              "      <th>Price</th>\n",
              "      <th>Currency</th>\n",
              "      <th>Condition</th>\n",
              "      <th>Vehicle_brand</th>\n",
              "      <th>Vehicle_model</th>\n",
              "      <th>Vehicle_version</th>\n",
              "      <th>Vehicle_generation</th>\n",
              "      <th>Production_year</th>\n",
              "      <th>Mileage_km</th>\n",
              "      <th>...</th>\n",
              "      <th>Transmission</th>\n",
              "      <th>Type</th>\n",
              "      <th>Doors_number</th>\n",
              "      <th>Colour</th>\n",
              "      <th>Origin_country</th>\n",
              "      <th>First_owner</th>\n",
              "      <th>First_registration_date</th>\n",
              "      <th>Offer_publication_date</th>\n",
              "      <th>Offer_location</th>\n",
              "      <th>Features</th>\n",
              "    </tr>\n",
              "  </thead>\n",
              "  <tbody>\n",
              "    <tr>\n",
              "      <th>0</th>\n",
              "      <td>0</td>\n",
              "      <td>86200</td>\n",
              "      <td>PLN</td>\n",
              "      <td>New</td>\n",
              "      <td>Abarth</td>\n",
              "      <td>595</td>\n",
              "      <td>0.662887</td>\n",
              "      <td>0.709828</td>\n",
              "      <td>2021</td>\n",
              "      <td>1.0</td>\n",
              "      <td>...</td>\n",
              "      <td>Manual</td>\n",
              "      <td>small_cars</td>\n",
              "      <td>3.0</td>\n",
              "      <td>gray</td>\n",
              "      <td>0.567978</td>\n",
              "      <td>0.312495</td>\n",
              "      <td>0.414994</td>\n",
              "      <td>04/05/2021</td>\n",
              "      <td>ul. Jubilerska 6 - 04-190 Warszawa, Mazowiecki...</td>\n",
              "      <td>[]</td>\n",
              "    </tr>\n",
              "    <tr>\n",
              "      <th>1</th>\n",
              "      <td>1</td>\n",
              "      <td>43500</td>\n",
              "      <td>PLN</td>\n",
              "      <td>Used</td>\n",
              "      <td>Abarth</td>\n",
              "      <td>Other</td>\n",
              "      <td>0.662887</td>\n",
              "      <td>0.709828</td>\n",
              "      <td>1974</td>\n",
              "      <td>59000.0</td>\n",
              "      <td>...</td>\n",
              "      <td>Manual</td>\n",
              "      <td>coupe</td>\n",
              "      <td>2.0</td>\n",
              "      <td>silver</td>\n",
              "      <td>0.567978</td>\n",
              "      <td>0.312495</td>\n",
              "      <td>0.414994</td>\n",
              "      <td>03/05/2021</td>\n",
              "      <td>kanonierska12 - 04-425 Warszawa, Rembertów (Po...</td>\n",
              "      <td>[]</td>\n",
              "    </tr>\n",
              "    <tr>\n",
              "      <th>2</th>\n",
              "      <td>2</td>\n",
              "      <td>44900</td>\n",
              "      <td>PLN</td>\n",
              "      <td>Used</td>\n",
              "      <td>Abarth</td>\n",
              "      <td>500</td>\n",
              "      <td>0.662887</td>\n",
              "      <td>0.709828</td>\n",
              "      <td>2018</td>\n",
              "      <td>52000.0</td>\n",
              "      <td>...</td>\n",
              "      <td>Automatic</td>\n",
              "      <td>small_cars</td>\n",
              "      <td>3.0</td>\n",
              "      <td>silver</td>\n",
              "      <td>0.567978</td>\n",
              "      <td>0.312495</td>\n",
              "      <td>0.414994</td>\n",
              "      <td>03/05/2021</td>\n",
              "      <td>Warszawa, Mazowieckie, Białołęka</td>\n",
              "      <td>['ABS', 'Electric front windows', 'Drivers air...</td>\n",
              "    </tr>\n",
              "    <tr>\n",
              "      <th>3</th>\n",
              "      <td>3</td>\n",
              "      <td>39900</td>\n",
              "      <td>PLN</td>\n",
              "      <td>Used</td>\n",
              "      <td>Abarth</td>\n",
              "      <td>500</td>\n",
              "      <td>0.662887</td>\n",
              "      <td>0.709828</td>\n",
              "      <td>2012</td>\n",
              "      <td>29000.0</td>\n",
              "      <td>...</td>\n",
              "      <td>Manual</td>\n",
              "      <td>small_cars</td>\n",
              "      <td>3.0</td>\n",
              "      <td>gray</td>\n",
              "      <td>0.567978</td>\n",
              "      <td>0.312495</td>\n",
              "      <td>0.414994</td>\n",
              "      <td>30/04/2021</td>\n",
              "      <td>Jaworzno, Śląskie</td>\n",
              "      <td>['ABS', 'Electric front windows', 'Drivers air...</td>\n",
              "    </tr>\n",
              "    <tr>\n",
              "      <th>4</th>\n",
              "      <td>4</td>\n",
              "      <td>97900</td>\n",
              "      <td>PLN</td>\n",
              "      <td>New</td>\n",
              "      <td>Abarth</td>\n",
              "      <td>595</td>\n",
              "      <td>0.662887</td>\n",
              "      <td>0.709828</td>\n",
              "      <td>2021</td>\n",
              "      <td>600.0</td>\n",
              "      <td>...</td>\n",
              "      <td>Manual</td>\n",
              "      <td>small_cars</td>\n",
              "      <td>3.0</td>\n",
              "      <td>blue</td>\n",
              "      <td>0.567978</td>\n",
              "      <td>0.312495</td>\n",
              "      <td>0.414994</td>\n",
              "      <td>30/04/2021</td>\n",
              "      <td>ul. Gorzysława 9 - 61-057 Poznań, Nowe Miasto ...</td>\n",
              "      <td>['ABS', 'Electrically adjustable mirrors', 'Pa...</td>\n",
              "    </tr>\n",
              "  </tbody>\n",
              "</table>\n",
              "<p>5 rows × 25 columns</p>\n",
              "</div>\n",
              "      <button class=\"colab-df-convert\" onclick=\"convertToInteractive('df-d8e0cd1a-0221-4d94-a110-6afb616d8e42')\"\n",
              "              title=\"Convert this dataframe to an interactive table.\"\n",
              "              style=\"display:none;\">\n",
              "        \n",
              "  <svg xmlns=\"http://www.w3.org/2000/svg\" height=\"24px\"viewBox=\"0 0 24 24\"\n",
              "       width=\"24px\">\n",
              "    <path d=\"M0 0h24v24H0V0z\" fill=\"none\"/>\n",
              "    <path d=\"M18.56 5.44l.94 2.06.94-2.06 2.06-.94-2.06-.94-.94-2.06-.94 2.06-2.06.94zm-11 1L8.5 8.5l.94-2.06 2.06-.94-2.06-.94L8.5 2.5l-.94 2.06-2.06.94zm10 10l.94 2.06.94-2.06 2.06-.94-2.06-.94-.94-2.06-.94 2.06-2.06.94z\"/><path d=\"M17.41 7.96l-1.37-1.37c-.4-.4-.92-.59-1.43-.59-.52 0-1.04.2-1.43.59L10.3 9.45l-7.72 7.72c-.78.78-.78 2.05 0 2.83L4 21.41c.39.39.9.59 1.41.59.51 0 1.02-.2 1.41-.59l7.78-7.78 2.81-2.81c.8-.78.8-2.07 0-2.86zM5.41 20L4 18.59l7.72-7.72 1.47 1.35L5.41 20z\"/>\n",
              "  </svg>\n",
              "      </button>\n",
              "      \n",
              "  <style>\n",
              "    .colab-df-container {\n",
              "      display:flex;\n",
              "      flex-wrap:wrap;\n",
              "      gap: 12px;\n",
              "    }\n",
              "\n",
              "    .colab-df-convert {\n",
              "      background-color: #E8F0FE;\n",
              "      border: none;\n",
              "      border-radius: 50%;\n",
              "      cursor: pointer;\n",
              "      display: none;\n",
              "      fill: #1967D2;\n",
              "      height: 32px;\n",
              "      padding: 0 0 0 0;\n",
              "      width: 32px;\n",
              "    }\n",
              "\n",
              "    .colab-df-convert:hover {\n",
              "      background-color: #E2EBFA;\n",
              "      box-shadow: 0px 1px 2px rgba(60, 64, 67, 0.3), 0px 1px 3px 1px rgba(60, 64, 67, 0.15);\n",
              "      fill: #174EA6;\n",
              "    }\n",
              "\n",
              "    [theme=dark] .colab-df-convert {\n",
              "      background-color: #3B4455;\n",
              "      fill: #D2E3FC;\n",
              "    }\n",
              "\n",
              "    [theme=dark] .colab-df-convert:hover {\n",
              "      background-color: #434B5C;\n",
              "      box-shadow: 0px 1px 3px 1px rgba(0, 0, 0, 0.15);\n",
              "      filter: drop-shadow(0px 1px 2px rgba(0, 0, 0, 0.3));\n",
              "      fill: #FFFFFF;\n",
              "    }\n",
              "  </style>\n",
              "\n",
              "      <script>\n",
              "        const buttonEl =\n",
              "          document.querySelector('#df-d8e0cd1a-0221-4d94-a110-6afb616d8e42 button.colab-df-convert');\n",
              "        buttonEl.style.display =\n",
              "          google.colab.kernel.accessAllowed ? 'block' : 'none';\n",
              "\n",
              "        async function convertToInteractive(key) {\n",
              "          const element = document.querySelector('#df-d8e0cd1a-0221-4d94-a110-6afb616d8e42');\n",
              "          const dataTable =\n",
              "            await google.colab.kernel.invokeFunction('convertToInteractive',\n",
              "                                                     [key], {});\n",
              "          if (!dataTable) return;\n",
              "\n",
              "          const docLinkHtml = 'Like what you see? Visit the ' +\n",
              "            '<a target=\"_blank\" href=https://colab.research.google.com/notebooks/data_table.ipynb>data table notebook</a>'\n",
              "            + ' to learn more about interactive tables.';\n",
              "          element.innerHTML = '';\n",
              "          dataTable['output_type'] = 'display_data';\n",
              "          await google.colab.output.renderOutput(dataTable, element);\n",
              "          const docLink = document.createElement('div');\n",
              "          docLink.innerHTML = docLinkHtml;\n",
              "          element.appendChild(docLink);\n",
              "        }\n",
              "      </script>\n",
              "    </div>\n",
              "  </div>\n",
              "  "
            ]
          },
          "metadata": {},
          "execution_count": 90
        }
      ]
    },
    {
      "cell_type": "markdown",
      "source": [
        "We dont need this to columns in our dataset "
      ],
      "metadata": {
        "id": "fbB8UFsN0xTE"
      }
    },
    {
      "cell_type": "code",
      "source": [
        "#axis = 1 to look for column, and we drop useless columns\n",
        "df = df.drop(['Vehicle_version','Vehicle_generation'],axis=1)"
      ],
      "metadata": {
        "id": "u6Oe1GJCtpXz"
      },
      "execution_count": 91,
      "outputs": []
    },
    {
      "cell_type": "code",
      "source": [
        "#After replacing missing values with mean\n",
        "null_values = df.isnull().sum()\n",
        "null_values"
      ],
      "metadata": {
        "colab": {
          "base_uri": "https://localhost:8080/"
        },
        "id": "FO5kbhcN-TNE",
        "outputId": "b76abfe7-76dc-4953-e3d8-da530ff2b71a"
      },
      "execution_count": 92,
      "outputs": [
        {
          "output_type": "execute_result",
          "data": {
            "text/plain": [
              "Index                      0\n",
              "Price                      0\n",
              "Currency                   0\n",
              "Condition                  0\n",
              "Vehicle_brand              0\n",
              "Vehicle_model              0\n",
              "Production_year            0\n",
              "Mileage_km                 0\n",
              "Power_HP                   0\n",
              "Displacement_cm3           0\n",
              "Fuel_type                  0\n",
              "CO2_emissions              0\n",
              "Drive                      0\n",
              "Transmission               0\n",
              "Type                       0\n",
              "Doors_number               0\n",
              "Colour                     0\n",
              "Origin_country             0\n",
              "First_owner                0\n",
              "First_registration_date    0\n",
              "Offer_publication_date     0\n",
              "Offer_location             0\n",
              "Features                   0\n",
              "dtype: int64"
            ]
          },
          "metadata": {},
          "execution_count": 92
        }
      ]
    },
    {
      "cell_type": "markdown",
      "source": [
        "#Price Oulier"
      ],
      "metadata": {
        "id": "La74_T4WzGkg"
      }
    },
    {
      "cell_type": "code",
      "source": [
        "sns.boxplot( y=df[\"Price\"] );\n",
        "plt.show()"
      ],
      "metadata": {
        "colab": {
          "base_uri": "https://localhost:8080/",
          "height": 263
        },
        "id": "ydZ8peRJIQQy",
        "outputId": "57f4cab1-84e8-4879-8d50-9210b4c1f0b2"
      },
      "execution_count": 93,
      "outputs": [
        {
          "output_type": "display_data",
          "data": {
            "text/plain": [
              "<Figure size 432x288 with 1 Axes>"
            ],
            "image/png": "[encoded data removed]"
          },
          "metadata": {
            "needs_background": "light"
          }
        }
      ]
    },
    {
      "cell_type": "code",
      "source": [
        "plt.plot(df['Price'])"
      ],
      "metadata": {
        "colab": {
          "base_uri": "https://localhost:8080/",
          "height": 294
        },
        "id": "_CVA4UChva_h",
        "outputId": "ced10a13-57fd-4d92-9846-998b6c43bc05"
      },
      "execution_count": 94,
      "outputs": [
        {
          "output_type": "execute_result",
          "data": {
            "text/plain": [
              "[<matplotlib.lines.Line2D at 0x7f61fb79f3a0>]"
            ]
          },
          "metadata": {},
          "execution_count": 94
        },
        {
          "output_type": "display_data",
          "data": {
            "text/plain": [
              "<Figure size 432x288 with 1 Axes>"
            ],
            "image/png": "[encoded data removed]"
          },
          "metadata": {
            "needs_background": "light"
          }
        }
      ]
    },
    {
      "cell_type": "code",
      "source": [
        "dropn = df[df.Price >= 1500000].index\n",
        "df = df.drop(dropn)"
      ],
      "metadata": {
        "id": "cI0ve4f4vunR"
      },
      "execution_count": 95,
      "outputs": []
    },
    {
      "cell_type": "code",
      "source": [
        "plt.plot(df['Price'], color=\"magenta\")"
      ],
      "metadata": {
        "colab": {
          "base_uri": "https://localhost:8080/",
          "height": 294
        },
        "id": "ZclO2Czc0Tjo",
        "outputId": "cdd05a82-99c0-464d-837c-0e0eb8351994"
      },
      "execution_count": 96,
      "outputs": [
        {
          "output_type": "execute_result",
          "data": {
            "text/plain": [
              "[<matplotlib.lines.Line2D at 0x7f61fb7718b0>]"
            ]
          },
          "metadata": {},
          "execution_count": 96
        },
        {
          "output_type": "display_data",
          "data": {
            "text/plain": [
              "<Figure size 432x288 with 1 Axes>"
            ],
            "image/png": "[encoded data removed]"
          },
          "metadata": {
            "needs_background": "light"
          }
        }
      ]
    },
    {
      "cell_type": "markdown",
      "source": [
        "#Production_year outlier\n"
      ],
      "metadata": {
        "id": "pHqk9mkFyvWr"
      }
    },
    {
      "cell_type": "code",
      "source": [
        "plt.plot(df['Production_year'])\n"
      ],
      "metadata": {
        "colab": {
          "base_uri": "https://localhost:8080/",
          "height": 283
        },
        "id": "grgPYCdqvbCY",
        "outputId": "ef39e919-f515-48e1-b316-a3c40a8edb25"
      },
      "execution_count": 97,
      "outputs": [
        {
          "output_type": "execute_result",
          "data": {
            "text/plain": [
              "[<matplotlib.lines.Line2D at 0x7f61fb73fc70>]"
            ]
          },
          "metadata": {},
          "execution_count": 97
        },
        {
          "output_type": "display_data",
          "data": {
            "text/plain": [
              "<Figure size 432x288 with 1 Axes>"
            ],
            "image/png": "[encoded data removed]"
          },
          "metadata": {
            "needs_background": "light"
          }
        }
      ]
    },
    {
      "cell_type": "code",
      "source": [
        "dropn = df[df.Production_year <= 1995].index\n",
        "df = df.drop(dropn)\n"
      ],
      "metadata": {
        "id": "rLOgA8xtvbFD"
      },
      "execution_count": 99,
      "outputs": []
    },
    {
      "cell_type": "code",
      "source": [
        "plt.plot(df['Production_year'], color=\"magenta\")"
      ],
      "metadata": {
        "colab": {
          "base_uri": "https://localhost:8080/",
          "height": 283
        },
        "id": "KbXqzoQ3vbHU",
        "outputId": "be494820-8efa-4908-af23-f8c3bd682f3f"
      },
      "execution_count": 100,
      "outputs": [
        {
          "output_type": "execute_result",
          "data": {
            "text/plain": [
              "[<matplotlib.lines.Line2D at 0x7f61fb7116d0>]"
            ]
          },
          "metadata": {},
          "execution_count": 100
        },
        {
          "output_type": "display_data",
          "data": {
            "text/plain": [
              "<Figure size 432x288 with 1 Axes>"
            ],
            "image/png": "[encoded data removed]"
          },
          "metadata": {
            "needs_background": "light"
          }
        }
      ]
    },
    {
      "cell_type": "code",
      "source": [
        "sns.boxplot( y=df[\"Production_year\"] );\n",
        "plt.show()"
      ],
      "metadata": {
        "colab": {
          "base_uri": "https://localhost:8080/",
          "height": 252
        },
        "id": "eNRbUpmf161z",
        "outputId": "0beb50d2-34cf-4024-f456-079413f1eef3"
      },
      "execution_count": 101,
      "outputs": [
        {
          "output_type": "display_data",
          "data": {
            "text/plain": [
              "<Figure size 432x288 with 1 Axes>"
            ],
            "image/png": "[encoded data removed]"
          },
          "metadata": {
            "needs_background": "light"
          }
        }
      ]
    },
    {
      "cell_type": "markdown",
      "source": [
        "\n",
        "#Mileage_km Outliers"
      ],
      "metadata": {
        "id": "ID_2BuCDynJh"
      }
    },
    {
      "cell_type": "code",
      "source": [
        "sns.boxplot( y=df[\"Mileage_km\"] );\n",
        "plt.show()"
      ],
      "metadata": {
        "colab": {
          "base_uri": "https://localhost:8080/",
          "height": 263
        },
        "id": "OKG8iD-81_2J",
        "outputId": "36b36b99-1545-480a-8537-5fa21bf88c16"
      },
      "execution_count": 102,
      "outputs": [
        {
          "output_type": "display_data",
          "data": {
            "text/plain": [
              "<Figure size 432x288 with 1 Axes>"
            ],
            "image/png": "[encoded data removed]"
          },
          "metadata": {
            "needs_background": "light"
          }
        }
      ]
    },
    {
      "cell_type": "code",
      "source": [
        "plt.plot(df['Mileage_km'])"
      ],
      "metadata": {
        "colab": {
          "base_uri": "https://localhost:8080/",
          "height": 294
        },
        "id": "nTtIAwggylki",
        "outputId": "d373724a-191c-4b4c-a1b3-2c70ff516cfd"
      },
      "execution_count": 103,
      "outputs": [
        {
          "output_type": "execute_result",
          "data": {
            "text/plain": [
              "[<matplotlib.lines.Line2D at 0x7f61fb609f40>]"
            ]
          },
          "metadata": {},
          "execution_count": 103
        },
        {
          "output_type": "display_data",
          "data": {
            "text/plain": [
              "<Figure size 432x288 with 1 Axes>"
            ],
            "image/png": "[encoded data removed]"
          },
          "metadata": {
            "needs_background": "light"
          }
        }
      ]
    },
    {
      "cell_type": "code",
      "source": [
        "dropoutliers = df[df.Mileage_km >= 9999999.0].index\n",
        "df = df.drop(dropoutliers)"
      ],
      "metadata": {
        "id": "YOzD82jHylnN"
      },
      "execution_count": 104,
      "outputs": []
    },
    {
      "cell_type": "code",
      "source": [
        "plt.plot(df['Mileage_km'], color=\"magenta\")"
      ],
      "metadata": {
        "colab": {
          "base_uri": "https://localhost:8080/",
          "height": 294
        },
        "id": "3BMQMw5lylpX",
        "outputId": "14a30b09-eda4-4765-fe6b-09024f41349f"
      },
      "execution_count": 105,
      "outputs": [
        {
          "output_type": "execute_result",
          "data": {
            "text/plain": [
              "[<matplotlib.lines.Line2D at 0x7f61fb560790>]"
            ]
          },
          "metadata": {},
          "execution_count": 105
        },
        {
          "output_type": "display_data",
          "data": {
            "text/plain": [
              "<Figure size 432x288 with 1 Axes>"
            ],
            "image/png": "[encoded data removed]"
          },
          "metadata": {
            "needs_background": "light"
          }
        }
      ]
    },
    {
      "cell_type": "markdown",
      "source": [
        "# Power_HP Outlier"
      ],
      "metadata": {
        "id": "Mr1OEfVJzQTS"
      }
    },
    {
      "cell_type": "code",
      "source": [
        "plt.plot(df['Power_HP'])"
      ],
      "metadata": {
        "colab": {
          "base_uri": "https://localhost:8080/",
          "height": 283
        },
        "id": "88b19oA0ylr2",
        "outputId": "6b2142a1-b618-4d55-8eca-9c507fd9c0e8"
      },
      "execution_count": 106,
      "outputs": [
        {
          "output_type": "execute_result",
          "data": {
            "text/plain": [
              "[<matplotlib.lines.Line2D at 0x7f61fb535760>]"
            ]
          },
          "metadata": {},
          "execution_count": 106
        },
        {
          "output_type": "display_data",
          "data": {
            "text/plain": [
              "<Figure size 432x288 with 1 Axes>"
            ],
            "image/png": "[encoded data removed]"
          },
          "metadata": {
            "needs_background": "light"
          }
        }
      ]
    },
    {
      "cell_type": "code",
      "source": [
        "veryhighHP = df[df.Power_HP >= 797.0].index\n",
        "verylowHP = df[ df.Power_HP <= 80 ].index\n",
        "df = df.drop(veryhighHP)\n",
        "df = df.drop(verylowHP)"
      ],
      "metadata": {
        "id": "-uBdeZK5yluN"
      },
      "execution_count": 107,
      "outputs": []
    },
    {
      "cell_type": "code",
      "source": [
        "plt.plot(df['Power_HP'], color=\"magenta\")"
      ],
      "metadata": {
        "colab": {
          "base_uri": "https://localhost:8080/",
          "height": 285
        },
        "id": "uG4wIgmCylwb",
        "outputId": "9a66dc54-cc84-4548-9f30-7c44b0496342"
      },
      "execution_count": 108,
      "outputs": [
        {
          "output_type": "execute_result",
          "data": {
            "text/plain": [
              "[<matplotlib.lines.Line2D at 0x7f61fee140a0>]"
            ]
          },
          "metadata": {},
          "execution_count": 108
        },
        {
          "output_type": "display_data",
          "data": {
            "text/plain": [
              "<Figure size 432x288 with 1 Axes>"
            ],
            "image/png": "[encoded data removed]"
          },
          "metadata": {
            "needs_background": "light"
          }
        }
      ]
    },
    {
      "cell_type": "markdown",
      "source": [
        "#CO2_emissions Outlier\n",
        "\n"
      ],
      "metadata": {
        "id": "MUsUnNSJzTCQ"
      }
    },
    {
      "cell_type": "code",
      "source": [
        "sns.boxplot( y=df[\"CO2_emissions\"] );\n",
        "plt.show()"
      ],
      "metadata": {
        "colab": {
          "base_uri": "https://localhost:8080/",
          "height": 263
        },
        "id": "03j9z70s3Z5a",
        "outputId": "8eb924bc-db6f-4249-8a6a-74bd408c8c46"
      },
      "execution_count": 109,
      "outputs": [
        {
          "output_type": "display_data",
          "data": {
            "text/plain": [
              "<Figure size 432x288 with 1 Axes>"
            ],
            "image/png": "[encoded data removed]"
          },
          "metadata": {
            "needs_background": "light"
          }
        }
      ]
    },
    {
      "cell_type": "code",
      "source": [
        "plt.plot(df['CO2_emissions'])"
      ],
      "metadata": {
        "colab": {
          "base_uri": "https://localhost:8080/",
          "height": 294
        },
        "id": "2k3z9Hvuyl7N",
        "outputId": "444a475f-cb1e-4a18-e39c-7c5e75844864"
      },
      "execution_count": 110,
      "outputs": [
        {
          "output_type": "execute_result",
          "data": {
            "text/plain": [
              "[<matplotlib.lines.Line2D at 0x7f61fb68a850>]"
            ]
          },
          "metadata": {},
          "execution_count": 110
        },
        {
          "output_type": "display_data",
          "data": {
            "text/plain": [
              "<Figure size 432x288 with 1 Axes>"
            ],
            "image/png": "[encoded data removed]"
          },
          "metadata": {
            "needs_background": "light"
          }
        }
      ]
    },
    {
      "cell_type": "code",
      "source": [
        "CO2_emissionsDrop = df[df.CO2_emissions >= 666.0].index\n",
        "df = df.drop(CO2_emissionsDrop)"
      ],
      "metadata": {
        "id": "autfnMDeyl99"
      },
      "execution_count": 111,
      "outputs": []
    },
    {
      "cell_type": "code",
      "source": [
        "plt.plot(df['CO2_emissions'], color=\"magenta\")"
      ],
      "metadata": {
        "colab": {
          "base_uri": "https://localhost:8080/",
          "height": 283
        },
        "id": "ALLZ4-ylymAf",
        "outputId": "2dbafa60-c04a-4ecf-d35a-10fd468e49d0"
      },
      "execution_count": 112,
      "outputs": [
        {
          "output_type": "execute_result",
          "data": {
            "text/plain": [
              "[<matplotlib.lines.Line2D at 0x7f61fec296a0>]"
            ]
          },
          "metadata": {},
          "execution_count": 112
        },
        {
          "output_type": "display_data",
          "data": {
            "text/plain": [
              "<Figure size 432x288 with 1 Axes>"
            ],
            "image/png": "[encoded data removed]"
          },
          "metadata": {
            "needs_background": "light"
          }
        }
      ]
    },
    {
      "cell_type": "markdown",
      "source": [
        "#Displacement_cm3 Outlier"
      ],
      "metadata": {
        "id": "-cwOFsgS_4nN"
      }
    },
    {
      "cell_type": "code",
      "source": [
        "sns.boxplot( y=df[\"Displacement_cm3\"] );\n",
        "plt.show()"
      ],
      "metadata": {
        "colab": {
          "base_uri": "https://localhost:8080/",
          "height": 252
        },
        "id": "Idor4xAL__HO",
        "outputId": "07a2d621-230c-439f-ba27-6c70c612902f"
      },
      "execution_count": 113,
      "outputs": [
        {
          "output_type": "display_data",
          "data": {
            "text/plain": [
              "<Figure size 432x288 with 1 Axes>"
            ],
            "image/png": "[encoded data removed]"
          },
          "metadata": {
            "needs_background": "light"
          }
        }
      ]
    },
    {
      "cell_type": "code",
      "source": [
        "plt.plot(df['Displacement_cm3'])"
      ],
      "metadata": {
        "colab": {
          "base_uri": "https://localhost:8080/",
          "height": 283
        },
        "id": "gE0_sAnQ__EH",
        "outputId": "33c23ffc-19d6-4fa8-bfec-00f0a526f894"
      },
      "execution_count": 114,
      "outputs": [
        {
          "output_type": "execute_result",
          "data": {
            "text/plain": [
              "[<matplotlib.lines.Line2D at 0x7f620987ccd0>]"
            ]
          },
          "metadata": {},
          "execution_count": 114
        },
        {
          "output_type": "display_data",
          "data": {
            "text/plain": [
              "<Figure size 432x288 with 1 Axes>"
            ],
            "image/png": "[encoded data removed]"
          },
          "metadata": {
            "needs_background": "light"
          }
        }
      ]
    },
    {
      "cell_type": "code",
      "source": [
        "#df['Displacement_cm3'].min()\n",
        "#df['Displacement_cm3'].describe()\n",
        "#(df.Displacement_cm3 >= 10000000000000000000).value_counts\n",
        "LowDisplacement_cm3 = df[ df.Displacement_cm3 <= 1 ].index\n",
        "LowDisplacement_cm3\n"
      ],
      "metadata": {
        "colab": {
          "base_uri": "https://localhost:8080/"
        },
        "id": "QYz6pVTAAqGw",
        "outputId": "e9e56dfe-887c-4e66-d9bc-9d043452f4b2"
      },
      "execution_count": 115,
      "outputs": [
        {
          "output_type": "execute_result",
          "data": {
            "text/plain": [
              "Int64Index([   765,   2849,   3916,   4419,  11385,  14544,  14545,  14546,\n",
              "             14547,  14548,\n",
              "            ...\n",
              "            191855, 191856, 191859, 201915, 202038, 202066, 202114, 202144,\n",
              "            205295, 206256],\n",
              "           dtype='int64', length=1507)"
            ]
          },
          "metadata": {},
          "execution_count": 115
        }
      ]
    },
    {
      "cell_type": "code",
      "source": [
        "#HighDisplacement_cm3 = df[df.Displacement_cm3 >= 797.0].index\n",
        "LowDisplacement_cm3 = df[ df.Displacement_cm3 <= 1 ].index\n",
        "#df = df.drop(veryhighHP)\n",
        "df = df.drop(LowDisplacement_cm3)"
      ],
      "metadata": {
        "id": "_h_FL40j__J3"
      },
      "execution_count": 116,
      "outputs": []
    },
    {
      "cell_type": "code",
      "source": [
        "plt.plot(df['Displacement_cm3'], color=\"magenta\")"
      ],
      "metadata": {
        "colab": {
          "base_uri": "https://localhost:8080/",
          "height": 283
        },
        "id": "vD6DL_di__Md",
        "outputId": "445732b2-e449-4912-ac39-acd5fd7965c0"
      },
      "execution_count": 117,
      "outputs": [
        {
          "output_type": "execute_result",
          "data": {
            "text/plain": [
              "[<matplotlib.lines.Line2D at 0x7f620535c130>]"
            ]
          },
          "metadata": {},
          "execution_count": 117
        },
        {
          "output_type": "display_data",
          "data": {
            "text/plain": [
              "<Figure size 432x288 with 1 Axes>"
            ],
            "image/png": "[encoded data removed]"
          },
          "metadata": {
            "needs_background": "light"
          }
        }
      ]
    },
    {
      "cell_type": "markdown",
      "source": [
        "#Doors_number Outlier"
      ],
      "metadata": {
        "id": "LKvdp4Gwzcor"
      }
    },
    {
      "cell_type": "markdown",
      "source": [
        "When describing the body style, the hatch is often counted as a door, therefore a hatchback with two passenger doors is called a three-door and a hatchback with four passenger doors is called a five-door."
      ],
      "metadata": {
        "id": "TdKQ5597I5PW"
      }
    },
    {
      "cell_type": "code",
      "source": [
        "sns.boxplot( y=df[\"Doors_number\"] );\n",
        "plt.show()"
      ],
      "metadata": {
        "colab": {
          "base_uri": "https://localhost:8080/",
          "height": 252
        },
        "id": "_ZpxyY3B3eGF",
        "outputId": "f6b891c5-d043-46cf-861a-31438607bf8f"
      },
      "execution_count": 118,
      "outputs": [
        {
          "output_type": "display_data",
          "data": {
            "text/plain": [
              "<Figure size 432x288 with 1 Axes>"
            ],
            "image/png": "[encoded data removed]"
          },
          "metadata": {
            "needs_background": "light"
          }
        }
      ]
    },
    {
      "cell_type": "code",
      "source": [
        "plt.plot(df['Doors_number'])"
      ],
      "metadata": {
        "colab": {
          "base_uri": "https://localhost:8080/",
          "height": 283
        },
        "id": "ZB8wqYB_zblr",
        "outputId": "30365252-4926-4b62-9c36-829a45543ca7"
      },
      "execution_count": 119,
      "outputs": [
        {
          "output_type": "execute_result",
          "data": {
            "text/plain": [
              "[<matplotlib.lines.Line2D at 0x7f61fb476340>]"
            ]
          },
          "metadata": {},
          "execution_count": 119
        },
        {
          "output_type": "display_data",
          "data": {
            "text/plain": [
              "<Figure size 432x288 with 1 Axes>"
            ],
            "image/png": "[encoded data removed]"
          },
          "metadata": {
            "needs_background": "light"
          }
        }
      ]
    },
    {
      "cell_type": "code",
      "source": [
        "maxNumOfDoors = df[df.Doors_number >= 8].index\n",
        "minNumOfDoors = df[ df.Doors_number <= 1 ].index\n",
        "df = df.drop(maxNumOfDoors)\n",
        "df = df.drop(minNumOfDoors)"
      ],
      "metadata": {
        "id": "W9gFg-QwKUOk"
      },
      "execution_count": 120,
      "outputs": []
    },
    {
      "cell_type": "code",
      "source": [
        "plt.plot(df['Doors_number'], color=\"magenta\")"
      ],
      "metadata": {
        "colab": {
          "base_uri": "https://localhost:8080/",
          "height": 283
        },
        "id": "7JypBnyyzbrS",
        "outputId": "2c99cd75-0f77-4b9f-8580-b9a70eec087e"
      },
      "execution_count": 121,
      "outputs": [
        {
          "output_type": "execute_result",
          "data": {
            "text/plain": [
              "[<matplotlib.lines.Line2D at 0x7f61fb441af0>]"
            ]
          },
          "metadata": {},
          "execution_count": 121
        },
        {
          "output_type": "display_data",
          "data": {
            "text/plain": [
              "<Figure size 432x288 with 1 Axes>"
            ],
            "image/png": "[encoded data removed]"
          },
          "metadata": {
            "needs_background": "light"
          }
        }
      ]
    },
    {
      "cell_type": "markdown",
      "source": [
        "#EDA Exploratory Data Analysis \n",
        "After cleaning data from nan values and put ranges for each outliers\n"
      ],
      "metadata": {
        "id": "SupSjQu7ue2E"
      }
    },
    {
      "cell_type": "code",
      "source": [
        "df.shape"
      ],
      "metadata": {
        "colab": {
          "base_uri": "https://localhost:8080/"
        },
        "id": "mOaZ6Wfr0uZ9",
        "outputId": "9e2a0aec-1224-405f-cb6f-8b508da1ba4c"
      },
      "execution_count": 122,
      "outputs": [
        {
          "output_type": "execute_result",
          "data": {
            "text/plain": [
              "(184278, 23)"
            ]
          },
          "metadata": {},
          "execution_count": 122
        }
      ]
    },
    {
      "cell_type": "code",
      "source": [
        "df.info()"
      ],
      "metadata": {
        "colab": {
          "base_uri": "https://localhost:8080/"
        },
        "id": "yA7Ui2qvRwg9",
        "outputId": "5b3c02d2-4cfd-45db-87bc-2fb2d066b3bd"
      },
      "execution_count": 123,
      "outputs": [
        {
          "output_type": "stream",
          "name": "stdout",
          "text": [
            "<class 'pandas.core.frame.DataFrame'>\n",
            "Int64Index: 184278 entries, 0 to 208272\n",
            "Data columns (total 23 columns):\n",
            " #   Column                   Non-Null Count   Dtype  \n",
            "---  ------                   --------------   -----  \n",
            " 0   Index                    184278 non-null  int64  \n",
            " 1   Price                    184278 non-null  int64  \n",
            " 2   Currency                 184278 non-null  object \n",
            " 3   Condition                184278 non-null  object \n",
            " 4   Vehicle_brand            184278 non-null  object \n",
            " 5   Vehicle_model            184278 non-null  object \n",
            " 6   Production_year          184278 non-null  int64  \n",
            " 7   Mileage_km               184278 non-null  float64\n",
            " 8   Power_HP                 184278 non-null  float64\n",
            " 9   Displacement_cm3         184278 non-null  float64\n",
            " 10  Fuel_type                184278 non-null  object \n",
            " 11  CO2_emissions            184278 non-null  float64\n",
            " 12  Drive                    184278 non-null  object \n",
            " 13  Transmission             184278 non-null  object \n",
            " 14  Type                     184278 non-null  object \n",
            " 15  Doors_number             184278 non-null  float64\n",
            " 16  Colour                   184278 non-null  object \n",
            " 17  Origin_country           184278 non-null  object \n",
            " 18  First_owner              184278 non-null  object \n",
            " 19  First_registration_date  184278 non-null  object \n",
            " 20  Offer_publication_date   184278 non-null  object \n",
            " 21  Offer_location           184278 non-null  object \n",
            " 22  Features                 184278 non-null  object \n",
            "dtypes: float64(5), int64(3), object(15)\n",
            "memory usage: 33.7+ MB\n"
          ]
        }
      ]
    },
    {
      "cell_type": "markdown",
      "source": [
        "Heat Maps is a type of plot which is necessary when we need to find the dependent variables.\n",
        "\n",
        "In the below heat map we know that the price feature depends mainly on the Power_HP, and Displacement_cm3."
      ],
      "metadata": {
        "id": "VcjNGbhD_L1m"
      }
    },
    {
      "cell_type": "code",
      "source": [
        "plt.figure(figsize=(10,5))\n",
        "c= df.corr()\n",
        "sns.heatmap(c,cmap=\"BrBG\",annot=True)\n",
        "c"
      ],
      "metadata": {
        "colab": {
          "base_uri": "https://localhost:8080/",
          "height": 692
        },
        "id": "6Pm17RMNsuB5",
        "outputId": "2ca39d32-dcfe-41a2-827f-d0c2af86fe42"
      },
      "execution_count": 124,
      "outputs": [
        {
          "output_type": "execute_result",
          "data": {
            "text/plain": [
              "                     Index     Price  Production_year  Mileage_km  Power_HP  \\\n",
              "Index             1.000000 -0.108590         0.035375   -0.017214 -0.234375   \n",
              "Price            -0.108590  1.000000         0.560340   -0.525015  0.650482   \n",
              "Production_year   0.035375  0.560340         1.000000   -0.768787  0.156921   \n",
              "Mileage_km       -0.017214 -0.525015        -0.768787    1.000000 -0.142284   \n",
              "Power_HP         -0.234375  0.650482         0.156921   -0.142284  1.000000   \n",
              "Displacement_cm3 -0.204477  0.354835        -0.152711    0.146444  0.816931   \n",
              "CO2_emissions    -0.050778  0.001704        -0.052878    0.113514  0.142906   \n",
              "Doors_number      0.093698 -0.065249         0.164653   -0.034466 -0.232061   \n",
              "\n",
              "                  Displacement_cm3  CO2_emissions  Doors_number  \n",
              "Index                    -0.204477      -0.050778      0.093698  \n",
              "Price                     0.354835       0.001704     -0.065249  \n",
              "Production_year          -0.152711      -0.052878      0.164653  \n",
              "Mileage_km                0.146444       0.113514     -0.034466  \n",
              "Power_HP                  0.816931       0.142906     -0.232061  \n",
              "Displacement_cm3          1.000000       0.143749     -0.253251  \n",
              "CO2_emissions             0.143749       1.000000     -0.035386  \n",
              "Doors_number             -0.253251      -0.035386      1.000000  "
            ],
            "text/html": [
              "\n",
              "  <div id=\"df-26cd4f36-ea60-4df7-a740-ad971d94ee79\">\n",
              "    <div class=\"colab-df-container\">\n",
              "      <div>\n",
              "<style scoped>\n",
              "    .dataframe tbody tr th:only-of-type {\n",
              "        vertical-align: middle;\n",
              "    }\n",
              "\n",
              "    .dataframe tbody tr th {\n",
              "        vertical-align: top;\n",
              "    }\n",
              "\n",
              "    .dataframe thead th {\n",
              "        text-align: right;\n",
              "    }\n",
              "</style>\n",
              "<table border=\"1\" class=\"dataframe\">\n",
              "  <thead>\n",
              "    <tr style=\"text-align: right;\">\n",
              "      <th></th>\n",
              "      <th>Index</th>\n",
              "      <th>Price</th>\n",
              "      <th>Production_year</th>\n",
              "      <th>Mileage_km</th>\n",
              "      <th>Power_HP</th>\n",
              "      <th>Displacement_cm3</th>\n",
              "      <th>CO2_emissions</th>\n",
              "      <th>Doors_number</th>\n",
              "    </tr>\n",
              "  </thead>\n",
              "  <tbody>\n",
              "    <tr>\n",
              "      <th>Index</th>\n",
              "      <td>1.000000</td>\n",
              "      <td>-0.108590</td>\n",
              "      <td>0.035375</td>\n",
              "      <td>-0.017214</td>\n",
              "      <td>-0.234375</td>\n",
              "      <td>-0.204477</td>\n",
              "      <td>-0.050778</td>\n",
              "      <td>0.093698</td>\n",
              "    </tr>\n",
              "    <tr>\n",
              "      <th>Price</th>\n",
              "      <td>-0.108590</td>\n",
              "      <td>1.000000</td>\n",
              "      <td>0.560340</td>\n",
              "      <td>-0.525015</td>\n",
              "      <td>0.650482</td>\n",
              "      <td>0.354835</td>\n",
              "      <td>0.001704</td>\n",
              "      <td>-0.065249</td>\n",
              "    </tr>\n",
              "    <tr>\n",
              "      <th>Production_year</th>\n",
              "      <td>0.035375</td>\n",
              "      <td>0.560340</td>\n",
              "      <td>1.000000</td>\n",
              "      <td>-0.768787</td>\n",
              "      <td>0.156921</td>\n",
              "      <td>-0.152711</td>\n",
              "      <td>-0.052878</td>\n",
              "      <td>0.164653</td>\n",
              "    </tr>\n",
              "    <tr>\n",
              "      <th>Mileage_km</th>\n",
              "      <td>-0.017214</td>\n",
              "      <td>-0.525015</td>\n",
              "      <td>-0.768787</td>\n",
              "      <td>1.000000</td>\n",
              "      <td>-0.142284</td>\n",
              "      <td>0.146444</td>\n",
              "      <td>0.113514</td>\n",
              "      <td>-0.034466</td>\n",
              "    </tr>\n",
              "    <tr>\n",
              "      <th>Power_HP</th>\n",
              "      <td>-0.234375</td>\n",
              "      <td>0.650482</td>\n",
              "      <td>0.156921</td>\n",
              "      <td>-0.142284</td>\n",
              "      <td>1.000000</td>\n",
              "      <td>0.816931</td>\n",
              "      <td>0.142906</td>\n",
              "      <td>-0.232061</td>\n",
              "    </tr>\n",
              "    <tr>\n",
              "      <th>Displacement_cm3</th>\n",
              "      <td>-0.204477</td>\n",
              "      <td>0.354835</td>\n",
              "      <td>-0.152711</td>\n",
              "      <td>0.146444</td>\n",
              "      <td>0.816931</td>\n",
              "      <td>1.000000</td>\n",
              "      <td>0.143749</td>\n",
              "      <td>-0.253251</td>\n",
              "    </tr>\n",
              "    <tr>\n",
              "      <th>CO2_emissions</th>\n",
              "      <td>-0.050778</td>\n",
              "      <td>0.001704</td>\n",
              "      <td>-0.052878</td>\n",
              "      <td>0.113514</td>\n",
              "      <td>0.142906</td>\n",
              "      <td>0.143749</td>\n",
              "      <td>1.000000</td>\n",
              "      <td>-0.035386</td>\n",
              "    </tr>\n",
              "    <tr>\n",
              "      <th>Doors_number</th>\n",
              "      <td>0.093698</td>\n",
              "      <td>-0.065249</td>\n",
              "      <td>0.164653</td>\n",
              "      <td>-0.034466</td>\n",
              "      <td>-0.232061</td>\n",
              "      <td>-0.253251</td>\n",
              "      <td>-0.035386</td>\n",
              "      <td>1.000000</td>\n",
              "    </tr>\n",
              "  </tbody>\n",
              "</table>\n",
              "</div>\n",
              "      <button class=\"colab-df-convert\" onclick=\"convertToInteractive('df-26cd4f36-ea60-4df7-a740-ad971d94ee79')\"\n",
              "              title=\"Convert this dataframe to an interactive table.\"\n",
              "              style=\"display:none;\">\n",
              "        \n",
              "  <svg xmlns=\"http://www.w3.org/2000/svg\" height=\"24px\"viewBox=\"0 0 24 24\"\n",
              "       width=\"24px\">\n",
              "    <path d=\"M0 0h24v24H0V0z\" fill=\"none\"/>\n",
              "    <path d=\"M18.56 5.44l.94 2.06.94-2.06 2.06-.94-2.06-.94-.94-2.06-.94 2.06-2.06.94zm-11 1L8.5 8.5l.94-2.06 2.06-.94-2.06-.94L8.5 2.5l-.94 2.06-2.06.94zm10 10l.94 2.06.94-2.06 2.06-.94-2.06-.94-.94-2.06-.94 2.06-2.06.94z\"/><path d=\"M17.41 7.96l-1.37-1.37c-.4-.4-.92-.59-1.43-.59-.52 0-1.04.2-1.43.59L10.3 9.45l-7.72 7.72c-.78.78-.78 2.05 0 2.83L4 21.41c.39.39.9.59 1.41.59.51 0 1.02-.2 1.41-.59l7.78-7.78 2.81-2.81c.8-.78.8-2.07 0-2.86zM5.41 20L4 18.59l7.72-7.72 1.47 1.35L5.41 20z\"/>\n",
              "  </svg>\n",
              "      </button>\n",
              "      \n",
              "  <style>\n",
              "    .colab-df-container {\n",
              "      display:flex;\n",
              "      flex-wrap:wrap;\n",
              "      gap: 12px;\n",
              "    }\n",
              "\n",
              "    .colab-df-convert {\n",
              "      background-color: #E8F0FE;\n",
              "      border: none;\n",
              "      border-radius: 50%;\n",
              "      cursor: pointer;\n",
              "      display: none;\n",
              "      fill: #1967D2;\n",
              "      height: 32px;\n",
              "      padding: 0 0 0 0;\n",
              "      width: 32px;\n",
              "    }\n",
              "\n",
              "    .colab-df-convert:hover {\n",
              "      background-color: #E2EBFA;\n",
              "      box-shadow: 0px 1px 2px rgba(60, 64, 67, 0.3), 0px 1px 3px 1px rgba(60, 64, 67, 0.15);\n",
              "      fill: #174EA6;\n",
              "    }\n",
              "\n",
              "    [theme=dark] .colab-df-convert {\n",
              "      background-color: #3B4455;\n",
              "      fill: #D2E3FC;\n",
              "    }\n",
              "\n",
              "    [theme=dark] .colab-df-convert:hover {\n",
              "      background-color: #434B5C;\n",
              "      box-shadow: 0px 1px 3px 1px rgba(0, 0, 0, 0.15);\n",
              "      filter: drop-shadow(0px 1px 2px rgba(0, 0, 0, 0.3));\n",
              "      fill: #FFFFFF;\n",
              "    }\n",
              "  </style>\n",
              "\n",
              "      <script>\n",
              "        const buttonEl =\n",
              "          document.querySelector('#df-26cd4f36-ea60-4df7-a740-ad971d94ee79 button.colab-df-convert');\n",
              "        buttonEl.style.display =\n",
              "          google.colab.kernel.accessAllowed ? 'block' : 'none';\n",
              "\n",
              "        async function convertToInteractive(key) {\n",
              "          const element = document.querySelector('#df-26cd4f36-ea60-4df7-a740-ad971d94ee79');\n",
              "          const dataTable =\n",
              "            await google.colab.kernel.invokeFunction('convertToInteractive',\n",
              "                                                     [key], {});\n",
              "          if (!dataTable) return;\n",
              "\n",
              "          const docLinkHtml = 'Like what you see? Visit the ' +\n",
              "            '<a target=\"_blank\" href=https://colab.research.google.com/notebooks/data_table.ipynb>data table notebook</a>'\n",
              "            + ' to learn more about interactive tables.';\n",
              "          element.innerHTML = '';\n",
              "          dataTable['output_type'] = 'display_data';\n",
              "          await google.colab.output.renderOutput(dataTable, element);\n",
              "          const docLink = document.createElement('div');\n",
              "          docLink.innerHTML = docLinkHtml;\n",
              "          element.appendChild(docLink);\n",
              "        }\n",
              "      </script>\n",
              "    </div>\n",
              "  </div>\n",
              "  "
            ]
          },
          "metadata": {},
          "execution_count": 124
        },
        {
          "output_type": "display_data",
          "data": {
            "text/plain": [
              "<Figure size 720x360 with 2 Axes>"
            ],
            "image/png": "[encoded data removed]"
          },
          "metadata": {
            "needs_background": "light"
          }
        }
      ]
    },
    {
      "cell_type": "code",
      "source": [
        "#used is more than new with large differance between them\n",
        "#Number of used cars in the dataset =  178625\n",
        "#Number of new cars in the dataset =  25154\n",
        "\n",
        "usedSum = len(df[df.Condition=='Used'])\n",
        "NewSum = len(df[df.Condition=='New'])\n",
        "\n",
        "plot = sns.histplot(df['Condition'],discrete=True);\n",
        "plot.set_xticks(df['Condition'].unique())\n",
        "\n",
        "print('Number of used cars in the dataset = ', usedSum )\n",
        "print('Number of New cars in the dataset = ', NewSum)\n"
      ],
      "metadata": {
        "colab": {
          "base_uri": "https://localhost:8080/",
          "height": 316
        },
        "id": "Y-kuTeag7vDW",
        "outputId": "8016e165-42d0-4f2c-ae74-8ba62f99231f"
      },
      "execution_count": 125,
      "outputs": [
        {
          "output_type": "stream",
          "name": "stdout",
          "text": [
            "Number of used cars in the dataset =  160679\n",
            "Number of New cars in the dataset =  23599\n"
          ]
        },
        {
          "output_type": "display_data",
          "data": {
            "text/plain": [
              "<Figure size 432x288 with 1 Axes>"
            ],
            "image/png": "[encoded data removed]"
          },
          "metadata": {
            "needs_background": "light"
          }
        }
      ]
    },
    {
      "cell_type": "code",
      "source": [
        "#We have 14 different colors the black is the most repeated colour\n",
        "df['Colour'].value_counts(ascending=True).plot(kind='bar')"
      ],
      "metadata": {
        "colab": {
          "base_uri": "https://localhost:8080/",
          "height": 321
        },
        "id": "Ji8WK-DF7vAV",
        "outputId": "55e263c8-7cb1-4cb7-b137-e560472a9c4f"
      },
      "execution_count": 126,
      "outputs": [
        {
          "output_type": "execute_result",
          "data": {
            "text/plain": [
              "<matplotlib.axes._subplots.AxesSubplot at 0x7f61fb310b20>"
            ]
          },
          "metadata": {},
          "execution_count": 126
        },
        {
          "output_type": "display_data",
          "data": {
            "text/plain": [
              "<Figure size 432x288 with 1 Axes>"
            ],
            "image/png": "[encoded data removed]"
          },
          "metadata": {
            "needs_background": "light"
          }
        }
      ]
    },
    {
      "cell_type": "code",
      "source": [
        "#We have 9 different Type of cars suv is the most repeated one\n",
        "df['Type'].value_counts(ascending=True).plot(kind='bar')"
      ],
      "metadata": {
        "colab": {
          "base_uri": "https://localhost:8080/",
          "height": 346
        },
        "id": "6E6IRNmw7vGt",
        "outputId": "640d745b-666d-40f4-8818-b8de8cc11526"
      },
      "execution_count": 127,
      "outputs": [
        {
          "output_type": "execute_result",
          "data": {
            "text/plain": [
              "<matplotlib.axes._subplots.AxesSubplot at 0x7f61fb1fcc70>"
            ]
          },
          "metadata": {},
          "execution_count": 127
        },
        {
          "output_type": "display_data",
          "data": {
            "text/plain": [
              "<Figure size 432x288 with 1 Axes>"
            ],
            "image/png": "[encoded data removed]"
          },
          "metadata": {
            "needs_background": "light"
          }
        }
      ]
    },
    {
      "cell_type": "markdown",
      "source": [
        "#Questions 1 \n",
        "#Does Power_HP have an impact on the price feature of buying vehicles?\n",
        "#Answer of the question:\n",
        "#After see the graph we see that horsepower of cars have an impact on price, by increasing horsepower price of car increases\n"
      ],
      "metadata": {
        "id": "mE0HhCD_O79Q"
      }
    },
    {
      "cell_type": "code",
      "source": [
        "fig, ax = plt.subplots(figsize=(10,6))\n",
        "ax.scatter(df['Power_HP'], df['Price'], cmap='Spectral')\n",
        "ax.set_xlabel('Power_HP')\n",
        "ax.set_ylabel('Price')\n",
        "plt.show()"
      ],
      "metadata": {
        "colab": {
          "base_uri": "https://localhost:8080/",
          "height": 400
        },
        "id": "9o5qlmzD4Ug9",
        "outputId": "4346b8f5-3dfe-4788-dd09-c3467e64cebc"
      },
      "execution_count": 128,
      "outputs": [
        {
          "output_type": "display_data",
          "data": {
            "text/plain": [
              "<Figure size 720x432 with 1 Axes>"
            ],
            "image/png": "[encoded data removed]"
          },
          "metadata": {
            "needs_background": "light"
          }
        }
      ]
    },
    {
      "cell_type": "markdown",
      "source": [
        "#Question 2\n",
        "#Does cars price change by year\n",
        "#Answer of the question:\n",
        "#Yes, after show this plot price of cars(Used or New) increases in the last 22 year with noticeable change\n",
        "\n"
      ],
      "metadata": {
        "id": "ChbppPDJFvYu"
      }
    },
    {
      "cell_type": "code",
      "source": [
        "plt.figure(figsize= (9,7))\n",
        "nat_groups = df.groupby('Production_year')['Price'].sum().sort_values()[-22:]\n",
        "nat_groups\n",
        "plt.xticks(rotation = 90)\n",
        "sns.barplot(x=nat_groups.index,y= nat_groups.values)"
      ],
      "metadata": {
        "colab": {
          "base_uri": "https://localhost:8080/",
          "height": 488
        },
        "id": "8TmNXI_DPBnl",
        "outputId": "9f3f4601-c65b-43ed-87d1-48727d974d6f"
      },
      "execution_count": 129,
      "outputs": [
        {
          "output_type": "execute_result",
          "data": {
            "text/plain": [
              "<matplotlib.axes._subplots.AxesSubplot at 0x7f61fb381e80>"
            ]
          },
          "metadata": {},
          "execution_count": 129
        },
        {
          "output_type": "display_data",
          "data": {
            "text/plain": [
              "<Figure size 648x504 with 1 Axes>"
            ],
            "image/png": "[encoded data removed]"
          },
          "metadata": {
            "needs_background": "light"
          }
        }
      ]
    },
    {
      "cell_type": "markdown",
      "source": [
        "#Question 3\n",
        "#Does Color have an impact on the price of buying a vehicle(Used or New)\n",
        "#Answer of the question:\n",
        "#yes, as price is different from color to another"
      ],
      "metadata": {
        "id": "QOm4JVKO4WY8"
      }
    },
    {
      "cell_type": "code",
      "source": [
        "# pandas count unique values ascending:\n",
        "df['Colour'].value_counts(ascending=True).plot(kind='bar')"
      ],
      "metadata": {
        "colab": {
          "base_uri": "https://localhost:8080/",
          "height": 321
        },
        "id": "SJmkLIbJ4UjY",
        "outputId": "b31c77bc-eef9-45a9-f6a4-5b36cdb72aac"
      },
      "execution_count": 130,
      "outputs": [
        {
          "output_type": "execute_result",
          "data": {
            "text/plain": [
              "<matplotlib.axes._subplots.AxesSubplot at 0x7f61fb0b55e0>"
            ]
          },
          "metadata": {},
          "execution_count": 130
        },
        {
          "output_type": "display_data",
          "data": {
            "text/plain": [
              "<Figure size 432x288 with 1 Axes>"
            ],
            "image/png": "[encoded data removed]"
          },
          "metadata": {
            "needs_background": "light"
          }
        }
      ]
    },
    {
      "cell_type": "code",
      "source": [
        "plt.figure(figsize= (9,7))\n",
        "nat_groups = df.groupby('Colour')['Price'].mean().sort_values()\n",
        "nat_groups\n",
        "plt.xticks(rotation = 90)\n",
        "sns.barplot(x=nat_groups.index,y= nat_groups.values)\n",
        "#so yellow has the highest price and silver color have the lowest"
      ],
      "metadata": {
        "colab": {
          "base_uri": "https://localhost:8080/",
          "height": 498
        },
        "id": "rn2XEwvA-LmC",
        "outputId": "1d78f7b5-17bf-4a60-8bf3-76759777faf9"
      },
      "execution_count": 131,
      "outputs": [
        {
          "output_type": "execute_result",
          "data": {
            "text/plain": [
              "<matplotlib.axes._subplots.AxesSubplot at 0x7f61fb162c40>"
            ]
          },
          "metadata": {},
          "execution_count": 131
        },
        {
          "output_type": "display_data",
          "data": {
            "text/plain": [
              "<Figure size 648x504 with 1 Axes>"
            ],
            "image/png": "[encoded data removed]"
          },
          "metadata": {
            "needs_background": "light"
          }
        }
      ]
    },
    {
      "cell_type": "markdown",
      "source": [
        "#Question 4\n",
        "#Does brand of cars have an impact on the price of buying a car or not\n",
        "#Answer of trhe question:\n",
        "#Yes, After looking for garhp we see that coupe cars has the highest price and small car and city car have the lowest price \n"
      ],
      "metadata": {
        "id": "P9nZm1gcWNNe"
      }
    },
    {
      "cell_type": "code",
      "source": [
        "plot = sns.histplot(df['Type'],discrete=True);\n",
        "plot.set_xticks(df['Type'].unique())\n",
        "plt.xticks(rotation = 90)"
      ],
      "metadata": {
        "colab": {
          "base_uri": "https://localhost:8080/",
          "height": 379
        },
        "id": "huokk-6rjovh",
        "outputId": "3cc6cfc7-556c-4498-8398-83af191bafab"
      },
      "execution_count": 132,
      "outputs": [
        {
          "output_type": "execute_result",
          "data": {
            "text/plain": [
              "(array([0., 1., 2., 3., 4., 5., 6., 7., 8.]),\n",
              " <a list of 9 Text major ticklabel objects>)"
            ]
          },
          "metadata": {},
          "execution_count": 132
        },
        {
          "output_type": "display_data",
          "data": {
            "text/plain": [
              "<Figure size 432x288 with 1 Axes>"
            ],
            "image/png": "[encoded data removed]"
          },
          "metadata": {
            "needs_background": "light"
          }
        }
      ]
    },
    {
      "cell_type": "code",
      "source": [
        "plt.figure(figsize= (9,7))\n",
        "nat_groups = df.groupby('Type')['Price'].mean().sort_values()\n",
        "nat_groups\n",
        "plt.xticks(rotation = 90)\n",
        "sns.barplot(x=nat_groups.index,y= nat_groups.values)"
      ],
      "metadata": {
        "colab": {
          "base_uri": "https://localhost:8080/",
          "height": 523
        },
        "id": "-Uo2AOdEWhw2",
        "outputId": "e4f3a28b-1093-41fb-c160-3d6e88a9d538"
      },
      "execution_count": 133,
      "outputs": [
        {
          "output_type": "execute_result",
          "data": {
            "text/plain": [
              "<matplotlib.axes._subplots.AxesSubplot at 0x7f61faf317c0>"
            ]
          },
          "metadata": {},
          "execution_count": 133
        },
        {
          "output_type": "display_data",
          "data": {
            "text/plain": [
              "<Figure size 648x504 with 1 Axes>"
            ],
            "image/png": "[encoded data removed]"
          },
          "metadata": {
            "needs_background": "light"
          }
        }
      ]
    },
    {
      "cell_type": "markdown",
      "source": [
        "#Question 5\n",
        "#Does type of fuel effect on co2 emissions\n",
        "#Answer of the Question:\n",
        "#yes, as diesel have the highest co2 emission"
      ],
      "metadata": {
        "id": "94i4Ub8VmJHq"
      }
    },
    {
      "cell_type": "code",
      "source": [
        "plot = sns.histplot(df['Fuel_type'],discrete=True);\n",
        "plot.set_xticks(df['Fuel_type'].unique())\n",
        "plt.xticks(rotation = 90)\n"
      ],
      "metadata": {
        "colab": {
          "base_uri": "https://localhost:8080/",
          "height": 368
        },
        "id": "knTEe43Pns6o",
        "outputId": "e38c4b77-1fd3-4f1c-c1eb-6002574c05b4"
      },
      "execution_count": 134,
      "outputs": [
        {
          "output_type": "execute_result",
          "data": {
            "text/plain": [
              "(array([0., 1., 2., 3., 4., 5.]), <a list of 6 Text major ticklabel objects>)"
            ]
          },
          "metadata": {},
          "execution_count": 134
        },
        {
          "output_type": "display_data",
          "data": {
            "text/plain": [
              "<Figure size 432x288 with 1 Axes>"
            ],
            "image/png": "[encoded data removed]"
          },
          "metadata": {
            "needs_background": "light"
          }
        }
      ]
    },
    {
      "cell_type": "code",
      "source": [
        "plt.figure(figsize= (9,7))\n",
        "nat_groups = df.groupby('Fuel_type')['CO2_emissions'].mean().sort_values()\n",
        "nat_groups\n",
        "plt.xticks(rotation = 90)\n",
        "sns.barplot(x=nat_groups.index,y= nat_groups.values)\n"
      ],
      "metadata": {
        "colab": {
          "base_uri": "https://localhost:8080/",
          "height": 531
        },
        "id": "MYM2UOJqofoz",
        "outputId": "b142c43b-7ad9-433e-a828-ba60437f72f9"
      },
      "execution_count": 135,
      "outputs": [
        {
          "output_type": "execute_result",
          "data": {
            "text/plain": [
              "<matplotlib.axes._subplots.AxesSubplot at 0x7f61fb63a7f0>"
            ]
          },
          "metadata": {},
          "execution_count": 135
        },
        {
          "output_type": "display_data",
          "data": {
            "text/plain": [
              "<Figure size 648x504 with 1 Axes>"
            ],
            "image/png": "[encoded data removed]"
          },
          "metadata": {
            "needs_background": "light"
          }
        }
      ]
    },
    {
      "cell_type": "markdown",
      "source": [
        "#Question 6\n",
        "#Does displacment_cm3 have ana impact on HP\n",
        "#Answer of question:\n",
        "#So after show this plot power Power_HP increase if Displacement_cm3 increase"
      ],
      "metadata": {
        "id": "UlsvKnAq8Gmp"
      }
    },
    {
      "cell_type": "code",
      "source": [
        "fig, ax = plt.subplots(figsize=(10,6))\n",
        "ax.scatter(df['Displacement_cm3'], df['Power_HP'], cmap='Spectral')\n",
        "ax.set_xlabel('Displacement_cm3')\n",
        "ax.set_ylabel('Power_HP')\n",
        "plt.show()\n",
        "\n"
      ],
      "metadata": {
        "colab": {
          "base_uri": "https://localhost:8080/",
          "height": 389
        },
        "id": "0MGLQeTV8F2w",
        "outputId": "3b869b40-204a-49c1-a3bf-5b7b67f8f5e9"
      },
      "execution_count": 136,
      "outputs": [
        {
          "output_type": "display_data",
          "data": {
            "text/plain": [
              "<Figure size 720x432 with 1 Axes>"
            ],
            "image/png": "[encoded data removed]"
          },
          "metadata": {
            "needs_background": "light"
          }
        }
      ]
    }
  ]
}